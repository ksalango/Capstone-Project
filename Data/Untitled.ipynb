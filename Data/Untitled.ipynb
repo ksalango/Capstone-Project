{
 "cells": [
  {
   "cell_type": "code",
   "execution_count": 1,
   "id": "ba1092fd",
   "metadata": {},
   "outputs": [],
   "source": [
    "import pandas as pd"
   ]
  },
  {
   "cell_type": "markdown",
   "id": "7dde39fb",
   "metadata": {},
   "source": [
    "the Environment and Climate Change Canada (ECCC) weather buoys "
   ]
  },
  {
   "cell_type": "code",
   "execution_count": 2,
   "id": "e9541493",
   "metadata": {},
   "outputs": [],
   "source": [
    "meds303df = pd.read_csv('meds103.csv')"
   ]
  },
  {
   "cell_type": "code",
   "execution_count": 3,
   "id": "efa69d16",
   "metadata": {},
   "outputs": [
    {
     "data": {
      "text/html": [
       "<div>\n",
       "<style scoped>\n",
       "    .dataframe tbody tr th:only-of-type {\n",
       "        vertical-align: middle;\n",
       "    }\n",
       "\n",
       "    .dataframe tbody tr th {\n",
       "        vertical-align: top;\n",
       "    }\n",
       "\n",
       "    .dataframe thead th {\n",
       "        text-align: right;\n",
       "    }\n",
       "</style>\n",
       "<table border=\"1\" class=\"dataframe\">\n",
       "  <thead>\n",
       "    <tr style=\"text-align: right;\">\n",
       "      <th></th>\n",
       "      <th>STN_ID</th>\n",
       "      <th>DATE</th>\n",
       "      <th>Q_FLAG</th>\n",
       "      <th>LATITUDE</th>\n",
       "      <th>LONGITUDE</th>\n",
       "      <th>DEPTH</th>\n",
       "      <th>VCAR</th>\n",
       "      <th>VTPK</th>\n",
       "      <th>Unnamed: 8</th>\n",
       "    </tr>\n",
       "  </thead>\n",
       "  <tbody>\n",
       "    <tr>\n",
       "      <th>0</th>\n",
       "      <td>MEDS103</td>\n",
       "      <td>06/26/1970 23:00</td>\n",
       "      <td>1</td>\n",
       "      <td>48.99</td>\n",
       "      <td>125.74</td>\n",
       "      <td>40.0</td>\n",
       "      <td>2.25</td>\n",
       "      <td>13.65</td>\n",
       "      <td>NaN</td>\n",
       "    </tr>\n",
       "    <tr>\n",
       "      <th>1</th>\n",
       "      <td>MEDS103</td>\n",
       "      <td>06/27/1970 02:00</td>\n",
       "      <td>1</td>\n",
       "      <td>48.99</td>\n",
       "      <td>125.74</td>\n",
       "      <td>40.0</td>\n",
       "      <td>2.12</td>\n",
       "      <td>12.41</td>\n",
       "      <td>NaN</td>\n",
       "    </tr>\n",
       "    <tr>\n",
       "      <th>2</th>\n",
       "      <td>MEDS103</td>\n",
       "      <td>06/27/1970 05:00</td>\n",
       "      <td>1</td>\n",
       "      <td>48.99</td>\n",
       "      <td>125.74</td>\n",
       "      <td>40.0</td>\n",
       "      <td>2.23</td>\n",
       "      <td>12.41</td>\n",
       "      <td>NaN</td>\n",
       "    </tr>\n",
       "    <tr>\n",
       "      <th>3</th>\n",
       "      <td>MEDS103</td>\n",
       "      <td>06/27/1970 08:00</td>\n",
       "      <td>1</td>\n",
       "      <td>48.99</td>\n",
       "      <td>125.74</td>\n",
       "      <td>40.0</td>\n",
       "      <td>1.88</td>\n",
       "      <td>12.41</td>\n",
       "      <td>NaN</td>\n",
       "    </tr>\n",
       "    <tr>\n",
       "      <th>4</th>\n",
       "      <td>MEDS103</td>\n",
       "      <td>06/27/1970 11:00</td>\n",
       "      <td>1</td>\n",
       "      <td>48.99</td>\n",
       "      <td>125.74</td>\n",
       "      <td>40.0</td>\n",
       "      <td>2.11</td>\n",
       "      <td>10.50</td>\n",
       "      <td>NaN</td>\n",
       "    </tr>\n",
       "  </tbody>\n",
       "</table>\n",
       "</div>"
      ],
      "text/plain": [
       "    STN_ID              DATE  Q_FLAG  LATITUDE  LONGITUDE  DEPTH  VCAR   VTPK  \\\n",
       "0  MEDS103  06/26/1970 23:00       1     48.99     125.74   40.0  2.25  13.65   \n",
       "1  MEDS103  06/27/1970 02:00       1     48.99     125.74   40.0  2.12  12.41   \n",
       "2  MEDS103  06/27/1970 05:00       1     48.99     125.74   40.0  2.23  12.41   \n",
       "3  MEDS103  06/27/1970 08:00       1     48.99     125.74   40.0  1.88  12.41   \n",
       "4  MEDS103  06/27/1970 11:00       1     48.99     125.74   40.0  2.11  10.50   \n",
       "\n",
       "   Unnamed: 8  \n",
       "0         NaN  \n",
       "1         NaN  \n",
       "2         NaN  \n",
       "3         NaN  \n",
       "4         NaN  "
      ]
     },
     "execution_count": 3,
     "metadata": {},
     "output_type": "execute_result"
    }
   ],
   "source": [
    "meds303df.head(100)"
   ]
  },
  {
   "cell_type": "code",
   "execution_count": 5,
   "id": "14f32693",
   "metadata": {},
   "outputs": [],
   "source": [
    "meds303df.head(100).to_csv('MEDS303_100.csv', index = False)"
   ]
  },
  {
   "cell_type": "code",
   "execution_count": 6,
   "id": "ddfb2eb3",
   "metadata": {},
   "outputs": [],
   "source": [
    "laperousedf=pd.read_csv('laperouse_buoy46139.csv')"
   ]
  },
  {
   "cell_type": "code",
   "execution_count": 8,
   "id": "60c71404",
   "metadata": {},
   "outputs": [],
   "source": [
    "laperousedf.head(100).to_csv('laperouse_100.csv', index=False)"
   ]
  },
  {
   "cell_type": "code",
   "execution_count": 9,
   "id": "49c3c49b",
   "metadata": {},
   "outputs": [],
   "source": [
    "weather_normal_dailydf =pd.read_csv('weatherstats_tofino_normal_daily.csv')"
   ]
  },
  {
   "cell_type": "code",
   "execution_count": 11,
   "id": "a076a50b",
   "metadata": {},
   "outputs": [],
   "source": [
    "weather_normal_dailydf.head(100).to_csv('weather_normals_daily_100.csv')"
   ]
  },
  {
   "cell_type": "code",
   "execution_count": 12,
   "id": "919a63e3",
   "metadata": {},
   "outputs": [],
   "source": [
    "weather_normal_monthlydf =pd.read_csv('weatherstats_tofino_normal_monthly.csv')"
   ]
  },
  {
   "cell_type": "code",
   "execution_count": 15,
   "id": "528f6650",
   "metadata": {},
   "outputs": [],
   "source": [
    "weather_normal_monthlydf.head(100).to_csv('weather_normals_monthly_100.csv')"
   ]
  },
  {
   "cell_type": "code",
   "execution_count": null,
   "id": "2d8f057a",
   "metadata": {},
   "outputs": [],
   "source": []
  }
 ],
 "metadata": {
  "kernelspec": {
   "display_name": "capstone_wavepower",
   "language": "python",
   "name": "capstone_wavepower"
  },
  "language_info": {
   "codemirror_mode": {
    "name": "ipython",
    "version": 3
   },
   "file_extension": ".py",
   "mimetype": "text/x-python",
   "name": "python",
   "nbconvert_exporter": "python",
   "pygments_lexer": "ipython3",
   "version": "3.8.18"
  }
 },
 "nbformat": 4,
 "nbformat_minor": 5
}
