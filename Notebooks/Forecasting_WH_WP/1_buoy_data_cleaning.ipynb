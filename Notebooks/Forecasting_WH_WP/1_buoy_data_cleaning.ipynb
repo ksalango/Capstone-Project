{
 "cells": [
  {
   "cell_type": "markdown",
   "id": "657ea8af",
   "metadata": {},
   "source": [
    "# Buoy Data\n",
    "## Historical Buoy Data \n",
    "    - MEDS103: Historical buoy data from 1970-1988, data collected from waverider buoys close to Tofino. Locations were changed periodically(see reference). \n",
    "    - Station 46206: Laperouse bank buoy data from 1988-2022, located 25 km away from MEDS buoy. \n",
    "    \n",
    "    http://www.waveworkshop.org/11thWaves/Papers/ThomasSwail_LongTermCoastalWaves2009.pdf"
   ]
  },
  {
   "cell_type": "markdown",
   "id": "598342ec-c8ba-4d15-a73e-4c3e9e114ac7",
   "metadata": {},
   "source": [
    "# Introduction\n",
    "This is the starting point for forecasting wave height and wave period. This notebook goes through the data cleaning stages of historical buoy data, that will then be used in creating a working data frame for forecasting. Historical buoy data from buoy closer to shore was loaded and briefly assessed. This notebook focused mainly on the buoy data from Laperouse Buoy as this buoy had more valuable and relevant features for this analysis. Further in the project the buoy data from the MEDS103 may be explored further and incorporated. \n",
    "\n",
    "# Methodology\n",
    "Buoy data from location closer to shore was imported and briefly assessed.\n",
    "To begin with cleaning the Laperouse buoy data, quality flags were assessed and strategy to imputing Null Values was formed, this is outlined in the notebook and conclusion. Distributions of wave height and period as well as erranous records was assessed in imputing missing values.  Calculated values of wave height(VCAR) and wave period (VTPK) were used in imputing null values for measured buoy values of wave height and wave period. Remaining Null values were then imputed to produce a cleaned data set. "
   ]
  },
  {
   "cell_type": "code",
   "execution_count": 1,
   "id": "0d091bc9",
   "metadata": {},
   "outputs": [],
   "source": [
    "import numpy as np\n",
    "import pandas as pd\n",
    "import scipy.stats as stats\n",
    "import seaborn as sns\n",
    "import matplotlib.pyplot as plt"
   ]
  },
  {
   "cell_type": "code",
   "execution_count": 2,
   "id": "91eaf232",
   "metadata": {},
   "outputs": [],
   "source": [
    "dfmeds=pd.read_csv('buoy_data/meds103.csv')"
   ]
  },
  {
   "cell_type": "code",
   "execution_count": 3,
   "id": "cf96329c",
   "metadata": {},
   "outputs": [
    {
     "data": {
      "text/html": [
       "<div>\n",
       "<style scoped>\n",
       "    .dataframe tbody tr th:only-of-type {\n",
       "        vertical-align: middle;\n",
       "    }\n",
       "\n",
       "    .dataframe tbody tr th {\n",
       "        vertical-align: top;\n",
       "    }\n",
       "\n",
       "    .dataframe thead th {\n",
       "        text-align: right;\n",
       "    }\n",
       "</style>\n",
       "<table border=\"1\" class=\"dataframe\">\n",
       "  <thead>\n",
       "    <tr style=\"text-align: right;\">\n",
       "      <th></th>\n",
       "      <th>STN_ID</th>\n",
       "      <th>DATE</th>\n",
       "      <th>Q_FLAG</th>\n",
       "      <th>LATITUDE</th>\n",
       "      <th>LONGITUDE</th>\n",
       "      <th>DEPTH</th>\n",
       "      <th>VCAR</th>\n",
       "      <th>VTPK</th>\n",
       "      <th>Unnamed: 8</th>\n",
       "    </tr>\n",
       "  </thead>\n",
       "  <tbody>\n",
       "    <tr>\n",
       "      <th>224162</th>\n",
       "      <td>MEDS103</td>\n",
       "      <td>06/16/1998 20:50</td>\n",
       "      <td>1</td>\n",
       "      <td>49.03</td>\n",
       "      <td>125.8</td>\n",
       "      <td>40.0</td>\n",
       "      <td>0.59</td>\n",
       "      <td>11.11</td>\n",
       "      <td>NaN</td>\n",
       "    </tr>\n",
       "    <tr>\n",
       "      <th>224163</th>\n",
       "      <td>MEDS103</td>\n",
       "      <td>06/16/1998 23:50</td>\n",
       "      <td>1</td>\n",
       "      <td>49.03</td>\n",
       "      <td>125.8</td>\n",
       "      <td>40.0</td>\n",
       "      <td>0.59</td>\n",
       "      <td>16.67</td>\n",
       "      <td>NaN</td>\n",
       "    </tr>\n",
       "    <tr>\n",
       "      <th>224164</th>\n",
       "      <td>MEDS103</td>\n",
       "      <td>06/17/1998 02:50</td>\n",
       "      <td>1</td>\n",
       "      <td>49.03</td>\n",
       "      <td>125.8</td>\n",
       "      <td>40.0</td>\n",
       "      <td>0.58</td>\n",
       "      <td>16.67</td>\n",
       "      <td>NaN</td>\n",
       "    </tr>\n",
       "    <tr>\n",
       "      <th>224165</th>\n",
       "      <td>MEDS103</td>\n",
       "      <td>06/17/1998 05:50</td>\n",
       "      <td>1</td>\n",
       "      <td>49.03</td>\n",
       "      <td>125.8</td>\n",
       "      <td>40.0</td>\n",
       "      <td>0.47</td>\n",
       "      <td>15.38</td>\n",
       "      <td>NaN</td>\n",
       "    </tr>\n",
       "    <tr>\n",
       "      <th>224166</th>\n",
       "      <td>MEDS103</td>\n",
       "      <td>06/17/1998 08:50</td>\n",
       "      <td>1</td>\n",
       "      <td>49.03</td>\n",
       "      <td>125.8</td>\n",
       "      <td>40.0</td>\n",
       "      <td>0.42</td>\n",
       "      <td>16.67</td>\n",
       "      <td>NaN</td>\n",
       "    </tr>\n",
       "  </tbody>\n",
       "</table>\n",
       "</div>"
      ],
      "text/plain": [
       "         STN_ID              DATE  Q_FLAG  LATITUDE  LONGITUDE  DEPTH  VCAR  \\\n",
       "224162  MEDS103  06/16/1998 20:50       1     49.03      125.8   40.0  0.59   \n",
       "224163  MEDS103  06/16/1998 23:50       1     49.03      125.8   40.0  0.59   \n",
       "224164  MEDS103  06/17/1998 02:50       1     49.03      125.8   40.0  0.58   \n",
       "224165  MEDS103  06/17/1998 05:50       1     49.03      125.8   40.0  0.47   \n",
       "224166  MEDS103  06/17/1998 08:50       1     49.03      125.8   40.0  0.42   \n",
       "\n",
       "         VTPK  Unnamed: 8  \n",
       "224162  11.11         NaN  \n",
       "224163  16.67         NaN  \n",
       "224164  16.67         NaN  \n",
       "224165  15.38         NaN  \n",
       "224166  16.67         NaN  "
      ]
     },
     "execution_count": 3,
     "metadata": {},
     "output_type": "execute_result"
    }
   ],
   "source": [
    "dfmeds.tail()"
   ]
  },
  {
   "cell_type": "markdown",
   "id": "a8074a05",
   "metadata": {},
   "source": [
    "**Description of Wave characteristics**\n",
    "- VCAR\n",
    "  Characteristic significant wave height (calculated by MEDS) (m)\n",
    "- VTPK\n",
    "  Wave spectrum peak period (calculated by MEDS) (s)\n",
    "https://meds-sdmm.dfo-mpo.gc.ca/isdm-gdsi/waves-vagues/formats-eng.html#FormatB\n",
    "\n"
   ]
  },
  {
   "cell_type": "code",
   "execution_count": 4,
   "id": "bc6cf9dd",
   "metadata": {},
   "outputs": [
    {
     "name": "stdout",
     "output_type": "stream",
     "text": [
      "<class 'pandas.core.frame.DataFrame'>\n",
      "RangeIndex: 224167 entries, 0 to 224166\n",
      "Data columns (total 9 columns):\n",
      " #   Column      Non-Null Count   Dtype  \n",
      "---  ------      --------------   -----  \n",
      " 0   STN_ID      224167 non-null  object \n",
      " 1   DATE        224167 non-null  object \n",
      " 2   Q_FLAG      224167 non-null  int64  \n",
      " 3   LATITUDE    224167 non-null  float64\n",
      " 4   LONGITUDE   224167 non-null  float64\n",
      " 5   DEPTH       224167 non-null  float64\n",
      " 6   VCAR        224167 non-null  float64\n",
      " 7   VTPK        224167 non-null  float64\n",
      " 8   Unnamed: 8  0 non-null       float64\n",
      "dtypes: float64(6), int64(1), object(2)\n",
      "memory usage: 15.4+ MB\n"
     ]
    }
   ],
   "source": [
    "dfmeds.info()"
   ]
  },
  {
   "cell_type": "code",
   "execution_count": 5,
   "id": "c2fe4524",
   "metadata": {},
   "outputs": [
    {
     "data": {
      "text/html": [
       "<div>\n",
       "<style scoped>\n",
       "    .dataframe tbody tr th:only-of-type {\n",
       "        vertical-align: middle;\n",
       "    }\n",
       "\n",
       "    .dataframe tbody tr th {\n",
       "        vertical-align: top;\n",
       "    }\n",
       "\n",
       "    .dataframe thead th {\n",
       "        text-align: right;\n",
       "    }\n",
       "</style>\n",
       "<table border=\"1\" class=\"dataframe\">\n",
       "  <thead>\n",
       "    <tr style=\"text-align: right;\">\n",
       "      <th></th>\n",
       "      <th>VCAR</th>\n",
       "      <th>VTPK</th>\n",
       "    </tr>\n",
       "  </thead>\n",
       "  <tbody>\n",
       "    <tr>\n",
       "      <th>count</th>\n",
       "      <td>224167.000000</td>\n",
       "      <td>224167.000000</td>\n",
       "    </tr>\n",
       "    <tr>\n",
       "      <th>mean</th>\n",
       "      <td>1.953182</td>\n",
       "      <td>11.765320</td>\n",
       "    </tr>\n",
       "    <tr>\n",
       "      <th>std</th>\n",
       "      <td>1.100524</td>\n",
       "      <td>3.988032</td>\n",
       "    </tr>\n",
       "    <tr>\n",
       "      <th>min</th>\n",
       "      <td>0.000000</td>\n",
       "      <td>2.000000</td>\n",
       "    </tr>\n",
       "    <tr>\n",
       "      <th>25%</th>\n",
       "      <td>1.160000</td>\n",
       "      <td>9.090000</td>\n",
       "    </tr>\n",
       "    <tr>\n",
       "      <th>50%</th>\n",
       "      <td>1.680000</td>\n",
       "      <td>11.110000</td>\n",
       "    </tr>\n",
       "    <tr>\n",
       "      <th>75%</th>\n",
       "      <td>2.490000</td>\n",
       "      <td>14.290000</td>\n",
       "    </tr>\n",
       "    <tr>\n",
       "      <th>max</th>\n",
       "      <td>38.570000</td>\n",
       "      <td>28.570000</td>\n",
       "    </tr>\n",
       "  </tbody>\n",
       "</table>\n",
       "</div>"
      ],
      "text/plain": [
       "                VCAR           VTPK\n",
       "count  224167.000000  224167.000000\n",
       "mean        1.953182      11.765320\n",
       "std         1.100524       3.988032\n",
       "min         0.000000       2.000000\n",
       "25%         1.160000       9.090000\n",
       "50%         1.680000      11.110000\n",
       "75%         2.490000      14.290000\n",
       "max        38.570000      28.570000"
      ]
     },
     "execution_count": 5,
     "metadata": {},
     "output_type": "execute_result"
    }
   ],
   "source": [
    "dfmeds[['VCAR','VTPK']].describe()"
   ]
  },
  {
   "cell_type": "markdown",
   "id": "c2adfe9f",
   "metadata": {},
   "source": [
    "# Laperouse Buoy data"
   ]
  },
  {
   "cell_type": "code",
   "execution_count": 6,
   "id": "35dce761",
   "metadata": {},
   "outputs": [],
   "source": [
    "\n",
    "df=pd.read_csv('buoy_data/c46206.csv')"
   ]
  },
  {
   "cell_type": "markdown",
   "id": "63a35346-2552-42b2-92c3-65ea52b01a80",
   "metadata": {},
   "source": [
    "# Data Dictionary\n",
    "\n",
    "<details>\n",
    "<summary>Click to view the Data Dictionary</summary>\n",
    "\n",
    "| Variable | Description |\n",
    "|----------|-------------|\n",
    "| VCAR     | Characteristic significant wave height (calculated by MEDS) (m) |\n",
    "| VTPK     | Wave spectrum peak period (calculated by MEDS) (s) |\n",
    "| VWH\\$     | Characteristic significant wave height (reported by the buoy) (m) |\n",
    "| VCMX     | Maximum zero crossing wave height (reported by the buoy) (m) |\n",
    "| VTP\\$     | Wave spectrum peak period (reported by the buoy) (s) |\n",
    "| WDIR     | Direction from which the wind is blowing (° True) |\n",
    "| WSPD     | Horizontal wind speed (m/s) |\n",
    "| WSS\\$    | Horizontal scalar wind speed (m/s) |\n",
    "| GSPD     | Gust wind speed (m/s) |\n",
    "| ATMS     | Atmospheric pressure at sea level (mbar) |\n",
    "| DRYT     | Dry bulb temperature (air temperature) (°C) |\n",
    "| SSTP     | Sea surface temperature (°C) |\n",
    "| Q_FLAG   | Quality Control Flag: 0 (No QC), 1 (Good), 3 (Doubtful), 4 (Erroneous), 5 (Changes), 6 (Acceptable), 7 (Off Position), 8 (Reserved), 9 (Reserved - indicates missing elements) |\n",
    "\n",
    "</details>\n"
   ]
  },
  {
   "cell_type": "code",
   "execution_count": 7,
   "id": "ac681b43",
   "metadata": {},
   "outputs": [
    {
     "name": "stdout",
     "output_type": "stream",
     "text": [
      "<class 'pandas.core.frame.DataFrame'>\n",
      "RangeIndex: 237882 entries, 0 to 237881\n",
      "Data columns (total 24 columns):\n",
      " #   Column       Non-Null Count   Dtype  \n",
      "---  ------       --------------   -----  \n",
      " 0   STN_ID       237882 non-null  object \n",
      " 1   DATE         237882 non-null  object \n",
      " 2   Q_FLAG       237882 non-null  int64  \n",
      " 3   LATITUDE     237882 non-null  float64\n",
      " 4   LONGITUDE    237882 non-null  float64\n",
      " 5   DEPTH        237882 non-null  float64\n",
      " 6   VCAR         237882 non-null  float64\n",
      " 7   VTPK         237882 non-null  float64\n",
      " 8   VWH$         220464 non-null  float64\n",
      " 9   VCMX         237882 non-null  float64\n",
      " 10  VTP$         215311 non-null  float64\n",
      " 11  WDIR         237882 non-null  float64\n",
      " 12  WSPD         237882 non-null  float64\n",
      " 13  WSS$         28237 non-null   float64\n",
      " 14  GSPD         237882 non-null  float64\n",
      " 15  WDIR.1       237882 non-null  float64\n",
      " 16  WSPD.1       237882 non-null  float64\n",
      " 17  WSS$.1       28237 non-null   float64\n",
      " 18  GSPD.1       237882 non-null  float64\n",
      " 19  ATMS         237877 non-null  float64\n",
      " 20  ATMS.1       232585 non-null  float64\n",
      " 21  DRYT         237882 non-null  float64\n",
      " 22  SSTP         237882 non-null  float64\n",
      " 23  Unnamed: 23  0 non-null       float64\n",
      "dtypes: float64(21), int64(1), object(2)\n",
      "memory usage: 43.6+ MB\n"
     ]
    }
   ],
   "source": [
    "df.info()"
   ]
  },
  {
   "cell_type": "code",
   "execution_count": 8,
   "id": "21edf60a",
   "metadata": {},
   "outputs": [],
   "source": [
    "#date to datetime\n",
    "df['DATE'] = pd.to_datetime(df['DATE'])"
   ]
  },
  {
   "cell_type": "code",
   "execution_count": 9,
   "id": "757679d2",
   "metadata": {},
   "outputs": [
    {
     "data": {
      "text/plain": [
       "STN_ID              0\n",
       "DATE                0\n",
       "Q_FLAG              0\n",
       "LATITUDE            0\n",
       "LONGITUDE           0\n",
       "DEPTH               0\n",
       "VCAR                0\n",
       "VTPK                0\n",
       "VWH$            17418\n",
       "VCMX                0\n",
       "VTP$            22571\n",
       "WDIR                0\n",
       "WSPD                0\n",
       "WSS$           209645\n",
       "GSPD                0\n",
       "WDIR.1              0\n",
       "WSPD.1              0\n",
       "WSS$.1         209645\n",
       "GSPD.1              0\n",
       "ATMS                5\n",
       "ATMS.1           5297\n",
       "DRYT                0\n",
       "SSTP                0\n",
       "Unnamed: 23    237882\n",
       "dtype: int64"
      ]
     },
     "execution_count": 9,
     "metadata": {},
     "output_type": "execute_result"
    }
   ],
   "source": [
    "df.isnull().sum()"
   ]
  },
  {
   "cell_type": "markdown",
   "id": "3b99967a",
   "metadata": {},
   "source": [
    "## Deal with nulls and incorrect data"
   ]
  },
  {
   "cell_type": "markdown",
   "id": "8bc1e0c4",
   "metadata": {},
   "source": [
    "**Look at Q_Flag Values and decide how to proceed**"
   ]
  },
  {
   "cell_type": "code",
   "execution_count": 10,
   "id": "df661743",
   "metadata": {},
   "outputs": [
    {
     "name": "stdout",
     "output_type": "stream",
     "text": [
      "Occurences of 0: 17225\n",
      "Occurences of 1: 203539\n",
      "Occurences of 2: 0\n",
      "Occurences of 3: 524\n",
      "Occurences of 4: 9458\n",
      "Occurences of 5: 5786\n",
      "Occurences of 6: 165\n",
      "Occurences of 7: 1185\n",
      "Occurences of 8: 0\n",
      "Occurences of 9: 0\n"
     ]
    }
   ],
   "source": [
    "val_countqflag= df['Q_FLAG'].value_counts().sort_index()\n",
    "for i in range(10):\n",
    "    count = val_countqflag.get(i,0)\n",
    "    print(f\"Occurences of {i}: {count}\")"
   ]
  },
  {
   "cell_type": "markdown",
   "id": "85770856",
   "metadata": {},
   "source": [
    "### Q_flag: \n",
    " - 1, indicates good, a large portion of dataset has been quality controlled. \n",
    " - 3, indicates doubtful: look into records that have value of 3\n",
    " - 4, appears Erraneous : look into records that have value of 4\n",
    " - 5, record has been changed as result of QC.\n",
    " - 6, acceptable, QC has been done but record seems inconsistent with other records. \n",
    " - 7, off position, problem with buoy position of mooring but record may still be useful. \n",
    " \n",
    "  ** In summary** Look into records with values: 3 and 4, possibly 6 and 7"
   ]
  },
  {
   "cell_type": "markdown",
   "id": "1839f7dc",
   "metadata": {},
   "source": [
    "\"quality codes were assigned subjectively to individual spectral records based on the shape of the spectral curve and relative values of significant wave height (VCAR) and peak period (VTPK) as recomputed from the spectra by MEDS. No assessment of any additional reported parameters is implied by the quality code. Spectra-based QC was discontinued on 2 April 2020, but the off-position check (QC flag of 7) is still carried out.\"\n",
    "\n",
    "https://meds-sdmm.dfo-mpo.gc.ca/isdm-gdsi/waves-vagues/formats-eng.html#FormatB\n"
   ]
  },
  {
   "cell_type": "code",
   "execution_count": 11,
   "id": "ced4ae86",
   "metadata": {},
   "outputs": [],
   "source": [
    "#define a function to filter dataframe based on values of Q_flag: \n",
    "def filter_rows_byqflag(dataframe, column_name, value):\n",
    "    \"\"\"\n",
    "    Filter dataframe based on Q_FLAG value.\n",
    "    \n",
    "    Parameters: dataframe; the dataframe\n",
    "                column_name; the column to filter on\n",
    "                value; value in column to be selected for\n",
    "    Return: filtered data frame displaying rows containing selected value\n",
    "    \"\"\"\n",
    "    return dataframe[dataframe[column_name]== value].copy()"
   ]
  },
  {
   "cell_type": "markdown",
   "id": "91941d1b",
   "metadata": {},
   "source": [
    "### Q_FLAG = 3"
   ]
  },
  {
   "cell_type": "code",
   "execution_count": 12,
   "id": "3d51720b",
   "metadata": {
    "scrolled": true
   },
   "outputs": [
    {
     "data": {
      "text/html": [
       "<div>\n",
       "<style scoped>\n",
       "    .dataframe tbody tr th:only-of-type {\n",
       "        vertical-align: middle;\n",
       "    }\n",
       "\n",
       "    .dataframe tbody tr th {\n",
       "        vertical-align: top;\n",
       "    }\n",
       "\n",
       "    .dataframe thead th {\n",
       "        text-align: right;\n",
       "    }\n",
       "</style>\n",
       "<table border=\"1\" class=\"dataframe\">\n",
       "  <thead>\n",
       "    <tr style=\"text-align: right;\">\n",
       "      <th></th>\n",
       "      <th>DATE</th>\n",
       "      <th>Q_FLAG</th>\n",
       "      <th>LATITUDE</th>\n",
       "      <th>LONGITUDE</th>\n",
       "      <th>DEPTH</th>\n",
       "      <th>VCAR</th>\n",
       "      <th>VTPK</th>\n",
       "      <th>VWH$</th>\n",
       "      <th>VCMX</th>\n",
       "      <th>VTP$</th>\n",
       "      <th>...</th>\n",
       "      <th>GSPD</th>\n",
       "      <th>WDIR.1</th>\n",
       "      <th>WSPD.1</th>\n",
       "      <th>WSS$.1</th>\n",
       "      <th>GSPD.1</th>\n",
       "      <th>ATMS</th>\n",
       "      <th>ATMS.1</th>\n",
       "      <th>DRYT</th>\n",
       "      <th>SSTP</th>\n",
       "      <th>Unnamed: 23</th>\n",
       "    </tr>\n",
       "  </thead>\n",
       "  <tbody>\n",
       "    <tr>\n",
       "      <th>count</th>\n",
       "      <td>524</td>\n",
       "      <td>524.0</td>\n",
       "      <td>524.000000</td>\n",
       "      <td>524.0</td>\n",
       "      <td>524.000000</td>\n",
       "      <td>524.000000</td>\n",
       "      <td>524.000000</td>\n",
       "      <td>511.000000</td>\n",
       "      <td>524.000000</td>\n",
       "      <td>492.000000</td>\n",
       "      <td>...</td>\n",
       "      <td>524.000000</td>\n",
       "      <td>524.000000</td>\n",
       "      <td>524.000000</td>\n",
       "      <td>46.000000</td>\n",
       "      <td>524.000000</td>\n",
       "      <td>524.000000</td>\n",
       "      <td>524.000000</td>\n",
       "      <td>524.000000</td>\n",
       "      <td>524.000000</td>\n",
       "      <td>0.0</td>\n",
       "    </tr>\n",
       "    <tr>\n",
       "      <th>mean</th>\n",
       "      <td>2001-05-02 11:33:37.557251840</td>\n",
       "      <td>3.0</td>\n",
       "      <td>48.830057</td>\n",
       "      <td>126.0</td>\n",
       "      <td>75.809160</td>\n",
       "      <td>2.052042</td>\n",
       "      <td>12.636794</td>\n",
       "      <td>2.128571</td>\n",
       "      <td>3.657824</td>\n",
       "      <td>13.495996</td>\n",
       "      <td>...</td>\n",
       "      <td>7.188168</td>\n",
       "      <td>171.215649</td>\n",
       "      <td>5.028817</td>\n",
       "      <td>5.250000</td>\n",
       "      <td>6.319656</td>\n",
       "      <td>1016.395229</td>\n",
       "      <td>1013.234733</td>\n",
       "      <td>10.455916</td>\n",
       "      <td>11.358397</td>\n",
       "      <td>NaN</td>\n",
       "    </tr>\n",
       "    <tr>\n",
       "      <th>min</th>\n",
       "      <td>1990-02-26 07:34:00</td>\n",
       "      <td>3.0</td>\n",
       "      <td>48.830000</td>\n",
       "      <td>126.0</td>\n",
       "      <td>72.000000</td>\n",
       "      <td>0.160000</td>\n",
       "      <td>3.240000</td>\n",
       "      <td>0.000000</td>\n",
       "      <td>0.000000</td>\n",
       "      <td>0.000000</td>\n",
       "      <td>...</td>\n",
       "      <td>0.000000</td>\n",
       "      <td>0.000000</td>\n",
       "      <td>0.000000</td>\n",
       "      <td>0.600000</td>\n",
       "      <td>0.000000</td>\n",
       "      <td>985.100000</td>\n",
       "      <td>985.100000</td>\n",
       "      <td>3.300000</td>\n",
       "      <td>0.000000</td>\n",
       "      <td>NaN</td>\n",
       "    </tr>\n",
       "    <tr>\n",
       "      <th>25%</th>\n",
       "      <td>2002-02-16 05:00:00</td>\n",
       "      <td>3.0</td>\n",
       "      <td>48.830000</td>\n",
       "      <td>126.0</td>\n",
       "      <td>75.000000</td>\n",
       "      <td>0.937500</td>\n",
       "      <td>9.850000</td>\n",
       "      <td>1.000000</td>\n",
       "      <td>1.600000</td>\n",
       "      <td>9.800000</td>\n",
       "      <td>...</td>\n",
       "      <td>3.900000</td>\n",
       "      <td>106.000000</td>\n",
       "      <td>2.000000</td>\n",
       "      <td>2.800000</td>\n",
       "      <td>2.675000</td>\n",
       "      <td>1013.300000</td>\n",
       "      <td>1010.075000</td>\n",
       "      <td>8.600000</td>\n",
       "      <td>9.600000</td>\n",
       "      <td>NaN</td>\n",
       "    </tr>\n",
       "    <tr>\n",
       "      <th>50%</th>\n",
       "      <td>2002-08-26 18:15:00</td>\n",
       "      <td>3.0</td>\n",
       "      <td>48.830000</td>\n",
       "      <td>126.0</td>\n",
       "      <td>75.000000</td>\n",
       "      <td>1.605000</td>\n",
       "      <td>14.220000</td>\n",
       "      <td>1.700000</td>\n",
       "      <td>2.900000</td>\n",
       "      <td>14.200000</td>\n",
       "      <td>...</td>\n",
       "      <td>6.950000</td>\n",
       "      <td>149.000000</td>\n",
       "      <td>5.000000</td>\n",
       "      <td>4.900000</td>\n",
       "      <td>6.200000</td>\n",
       "      <td>1016.950000</td>\n",
       "      <td>1016.200000</td>\n",
       "      <td>10.000000</td>\n",
       "      <td>10.400000</td>\n",
       "      <td>NaN</td>\n",
       "    </tr>\n",
       "    <tr>\n",
       "      <th>75%</th>\n",
       "      <td>2003-12-21 17:33:00</td>\n",
       "      <td>3.0</td>\n",
       "      <td>48.830000</td>\n",
       "      <td>126.0</td>\n",
       "      <td>78.000000</td>\n",
       "      <td>2.690000</td>\n",
       "      <td>15.060000</td>\n",
       "      <td>2.800000</td>\n",
       "      <td>4.500000</td>\n",
       "      <td>16.000000</td>\n",
       "      <td>...</td>\n",
       "      <td>9.700000</td>\n",
       "      <td>287.000000</td>\n",
       "      <td>7.400000</td>\n",
       "      <td>7.350000</td>\n",
       "      <td>9.300000</td>\n",
       "      <td>1020.600000</td>\n",
       "      <td>1020.300000</td>\n",
       "      <td>12.700000</td>\n",
       "      <td>13.000000</td>\n",
       "      <td>NaN</td>\n",
       "    </tr>\n",
       "    <tr>\n",
       "      <th>max</th>\n",
       "      <td>2005-02-14 17:26:00</td>\n",
       "      <td>3.0</td>\n",
       "      <td>48.840000</td>\n",
       "      <td>126.0</td>\n",
       "      <td>78.000000</td>\n",
       "      <td>10.440000</td>\n",
       "      <td>21.330000</td>\n",
       "      <td>7.800000</td>\n",
       "      <td>18.200000</td>\n",
       "      <td>36.600000</td>\n",
       "      <td>...</td>\n",
       "      <td>19.300000</td>\n",
       "      <td>359.000000</td>\n",
       "      <td>15.300000</td>\n",
       "      <td>11.200000</td>\n",
       "      <td>19.600000</td>\n",
       "      <td>1029.300000</td>\n",
       "      <td>1029.300000</td>\n",
       "      <td>17.500000</td>\n",
       "      <td>65.400000</td>\n",
       "      <td>NaN</td>\n",
       "    </tr>\n",
       "    <tr>\n",
       "      <th>std</th>\n",
       "      <td>NaN</td>\n",
       "      <td>0.0</td>\n",
       "      <td>0.000755</td>\n",
       "      <td>0.0</td>\n",
       "      <td>2.002349</td>\n",
       "      <td>1.499200</td>\n",
       "      <td>3.407395</td>\n",
       "      <td>1.500028</td>\n",
       "      <td>2.686984</td>\n",
       "      <td>5.311506</td>\n",
       "      <td>...</td>\n",
       "      <td>4.145224</td>\n",
       "      <td>106.275595</td>\n",
       "      <td>3.544736</td>\n",
       "      <td>2.837585</td>\n",
       "      <td>4.334580</td>\n",
       "      <td>6.710729</td>\n",
       "      <td>10.885557</td>\n",
       "      <td>2.722195</td>\n",
       "      <td>3.217808</td>\n",
       "      <td>NaN</td>\n",
       "    </tr>\n",
       "  </tbody>\n",
       "</table>\n",
       "<p>8 rows × 23 columns</p>\n",
       "</div>"
      ],
      "text/plain": [
       "                                DATE  Q_FLAG    LATITUDE  LONGITUDE  \\\n",
       "count                            524   524.0  524.000000      524.0   \n",
       "mean   2001-05-02 11:33:37.557251840     3.0   48.830057      126.0   \n",
       "min              1990-02-26 07:34:00     3.0   48.830000      126.0   \n",
       "25%              2002-02-16 05:00:00     3.0   48.830000      126.0   \n",
       "50%              2002-08-26 18:15:00     3.0   48.830000      126.0   \n",
       "75%              2003-12-21 17:33:00     3.0   48.830000      126.0   \n",
       "max              2005-02-14 17:26:00     3.0   48.840000      126.0   \n",
       "std                              NaN     0.0    0.000755        0.0   \n",
       "\n",
       "            DEPTH        VCAR        VTPK        VWH$        VCMX        VTP$  \\\n",
       "count  524.000000  524.000000  524.000000  511.000000  524.000000  492.000000   \n",
       "mean    75.809160    2.052042   12.636794    2.128571    3.657824   13.495996   \n",
       "min     72.000000    0.160000    3.240000    0.000000    0.000000    0.000000   \n",
       "25%     75.000000    0.937500    9.850000    1.000000    1.600000    9.800000   \n",
       "50%     75.000000    1.605000   14.220000    1.700000    2.900000   14.200000   \n",
       "75%     78.000000    2.690000   15.060000    2.800000    4.500000   16.000000   \n",
       "max     78.000000   10.440000   21.330000    7.800000   18.200000   36.600000   \n",
       "std      2.002349    1.499200    3.407395    1.500028    2.686984    5.311506   \n",
       "\n",
       "       ...        GSPD      WDIR.1      WSPD.1     WSS$.1      GSPD.1  \\\n",
       "count  ...  524.000000  524.000000  524.000000  46.000000  524.000000   \n",
       "mean   ...    7.188168  171.215649    5.028817   5.250000    6.319656   \n",
       "min    ...    0.000000    0.000000    0.000000   0.600000    0.000000   \n",
       "25%    ...    3.900000  106.000000    2.000000   2.800000    2.675000   \n",
       "50%    ...    6.950000  149.000000    5.000000   4.900000    6.200000   \n",
       "75%    ...    9.700000  287.000000    7.400000   7.350000    9.300000   \n",
       "max    ...   19.300000  359.000000   15.300000  11.200000   19.600000   \n",
       "std    ...    4.145224  106.275595    3.544736   2.837585    4.334580   \n",
       "\n",
       "              ATMS       ATMS.1        DRYT        SSTP  Unnamed: 23  \n",
       "count   524.000000   524.000000  524.000000  524.000000          0.0  \n",
       "mean   1016.395229  1013.234733   10.455916   11.358397          NaN  \n",
       "min     985.100000   985.100000    3.300000    0.000000          NaN  \n",
       "25%    1013.300000  1010.075000    8.600000    9.600000          NaN  \n",
       "50%    1016.950000  1016.200000   10.000000   10.400000          NaN  \n",
       "75%    1020.600000  1020.300000   12.700000   13.000000          NaN  \n",
       "max    1029.300000  1029.300000   17.500000   65.400000          NaN  \n",
       "std       6.710729    10.885557    2.722195    3.217808          NaN  \n",
       "\n",
       "[8 rows x 23 columns]"
      ]
     },
     "execution_count": 12,
     "metadata": {},
     "output_type": "execute_result"
    }
   ],
   "source": [
    "#filter for Q_Flag = 3; indicating doubtful records\n",
    "filteredqflag_3=filter_rows_byqflag(df,'Q_FLAG',3)\n",
    "filteredqflag_3.describe()"
   ]
  },
  {
   "cell_type": "code",
   "execution_count": 13,
   "id": "596d512a",
   "metadata": {},
   "outputs": [
    {
     "name": "stdout",
     "output_type": "stream",
     "text": [
      "year\n",
      "1990      9\n",
      "1991      6\n",
      "1992     38\n",
      "1993      9\n",
      "1994      5\n",
      "1995      4\n",
      "1996      3\n",
      "1997     38\n",
      "1999      3\n",
      "2000      3\n",
      "2001      1\n",
      "2002    183\n",
      "2003    148\n",
      "2004     73\n",
      "2005      1\n",
      "dtype: int64\n"
     ]
    }
   ],
   "source": [
    "filteredqflag_3['year'] = filteredqflag_3['DATE'].dt.year #add year column\n",
    "occurence_qflag3_year = filteredqflag_3.groupby('year').size() #group by year\n",
    "print(occurence_qflag3_year)"
   ]
  },
  {
   "cell_type": "markdown",
   "id": "5662b4cc",
   "metadata": {},
   "source": [
    "### Q_FLAG = 4"
   ]
  },
  {
   "cell_type": "code",
   "execution_count": 14,
   "id": "49b209ca",
   "metadata": {
    "scrolled": true
   },
   "outputs": [
    {
     "data": {
      "text/html": [
       "<div>\n",
       "<style scoped>\n",
       "    .dataframe tbody tr th:only-of-type {\n",
       "        vertical-align: middle;\n",
       "    }\n",
       "\n",
       "    .dataframe tbody tr th {\n",
       "        vertical-align: top;\n",
       "    }\n",
       "\n",
       "    .dataframe thead th {\n",
       "        text-align: right;\n",
       "    }\n",
       "</style>\n",
       "<table border=\"1\" class=\"dataframe\">\n",
       "  <thead>\n",
       "    <tr style=\"text-align: right;\">\n",
       "      <th></th>\n",
       "      <th>DATE</th>\n",
       "      <th>Q_FLAG</th>\n",
       "      <th>LATITUDE</th>\n",
       "      <th>LONGITUDE</th>\n",
       "      <th>DEPTH</th>\n",
       "      <th>VCAR</th>\n",
       "      <th>VTPK</th>\n",
       "      <th>VWH$</th>\n",
       "      <th>VCMX</th>\n",
       "      <th>VTP$</th>\n",
       "      <th>...</th>\n",
       "      <th>GSPD</th>\n",
       "      <th>WDIR.1</th>\n",
       "      <th>WSPD.1</th>\n",
       "      <th>WSS$.1</th>\n",
       "      <th>GSPD.1</th>\n",
       "      <th>ATMS</th>\n",
       "      <th>ATMS.1</th>\n",
       "      <th>DRYT</th>\n",
       "      <th>SSTP</th>\n",
       "      <th>Unnamed: 23</th>\n",
       "    </tr>\n",
       "  </thead>\n",
       "  <tbody>\n",
       "    <tr>\n",
       "      <th>count</th>\n",
       "      <td>9458</td>\n",
       "      <td>9458.0</td>\n",
       "      <td>9458.000000</td>\n",
       "      <td>9458.0</td>\n",
       "      <td>9458.000000</td>\n",
       "      <td>9458.000000</td>\n",
       "      <td>9458.000000</td>\n",
       "      <td>9457.000000</td>\n",
       "      <td>9458.000000</td>\n",
       "      <td>9457.000000</td>\n",
       "      <td>...</td>\n",
       "      <td>9458.000000</td>\n",
       "      <td>9458.000000</td>\n",
       "      <td>9458.000000</td>\n",
       "      <td>78.000000</td>\n",
       "      <td>9458.000000</td>\n",
       "      <td>9458.000000</td>\n",
       "      <td>9457.000000</td>\n",
       "      <td>9458.000000</td>\n",
       "      <td>9458.000000</td>\n",
       "      <td>0.0</td>\n",
       "    </tr>\n",
       "    <tr>\n",
       "      <th>mean</th>\n",
       "      <td>2006-02-22 21:01:48.086276096</td>\n",
       "      <td>4.0</td>\n",
       "      <td>48.830001</td>\n",
       "      <td>126.0</td>\n",
       "      <td>72.376930</td>\n",
       "      <td>20.358883</td>\n",
       "      <td>16.032457</td>\n",
       "      <td>2.044464</td>\n",
       "      <td>3.571114</td>\n",
       "      <td>10.289838</td>\n",
       "      <td>...</td>\n",
       "      <td>7.820713</td>\n",
       "      <td>195.913618</td>\n",
       "      <td>6.281931</td>\n",
       "      <td>9.150000</td>\n",
       "      <td>8.093106</td>\n",
       "      <td>1015.032956</td>\n",
       "      <td>1015.016422</td>\n",
       "      <td>10.954472</td>\n",
       "      <td>11.687915</td>\n",
       "      <td>NaN</td>\n",
       "    </tr>\n",
       "    <tr>\n",
       "      <th>min</th>\n",
       "      <td>1989-04-01 11:33:00</td>\n",
       "      <td>4.0</td>\n",
       "      <td>48.830000</td>\n",
       "      <td>126.0</td>\n",
       "      <td>72.000000</td>\n",
       "      <td>0.000000</td>\n",
       "      <td>0.000000</td>\n",
       "      <td>0.000000</td>\n",
       "      <td>0.000000</td>\n",
       "      <td>2.000000</td>\n",
       "      <td>...</td>\n",
       "      <td>0.000000</td>\n",
       "      <td>0.000000</td>\n",
       "      <td>0.000000</td>\n",
       "      <td>0.600000</td>\n",
       "      <td>0.000000</td>\n",
       "      <td>974.400000</td>\n",
       "      <td>974.400000</td>\n",
       "      <td>-7.900000</td>\n",
       "      <td>7.300000</td>\n",
       "      <td>NaN</td>\n",
       "    </tr>\n",
       "    <tr>\n",
       "      <th>25%</th>\n",
       "      <td>2005-07-04 21:15:00</td>\n",
       "      <td>4.0</td>\n",
       "      <td>48.830000</td>\n",
       "      <td>126.0</td>\n",
       "      <td>72.000000</td>\n",
       "      <td>1.470000</td>\n",
       "      <td>8.980000</td>\n",
       "      <td>1.100000</td>\n",
       "      <td>1.900000</td>\n",
       "      <td>8.000000</td>\n",
       "      <td>...</td>\n",
       "      <td>4.300000</td>\n",
       "      <td>114.000000</td>\n",
       "      <td>3.300000</td>\n",
       "      <td>3.725000</td>\n",
       "      <td>4.500000</td>\n",
       "      <td>1010.300000</td>\n",
       "      <td>1010.300000</td>\n",
       "      <td>8.900000</td>\n",
       "      <td>9.800000</td>\n",
       "      <td>NaN</td>\n",
       "    </tr>\n",
       "    <tr>\n",
       "      <th>50%</th>\n",
       "      <td>2005-10-27 14:15:00</td>\n",
       "      <td>4.0</td>\n",
       "      <td>48.830000</td>\n",
       "      <td>126.0</td>\n",
       "      <td>72.000000</td>\n",
       "      <td>2.670000</td>\n",
       "      <td>11.130000</td>\n",
       "      <td>1.800000</td>\n",
       "      <td>3.100000</td>\n",
       "      <td>10.200000</td>\n",
       "      <td>...</td>\n",
       "      <td>7.000000</td>\n",
       "      <td>191.000000</td>\n",
       "      <td>5.600000</td>\n",
       "      <td>6.150000</td>\n",
       "      <td>7.200000</td>\n",
       "      <td>1016.000000</td>\n",
       "      <td>1016.000000</td>\n",
       "      <td>11.000000</td>\n",
       "      <td>11.500000</td>\n",
       "      <td>NaN</td>\n",
       "    </tr>\n",
       "    <tr>\n",
       "      <th>75%</th>\n",
       "      <td>2006-02-13 10:30:00</td>\n",
       "      <td>4.0</td>\n",
       "      <td>48.830000</td>\n",
       "      <td>126.0</td>\n",
       "      <td>72.000000</td>\n",
       "      <td>4.497500</td>\n",
       "      <td>14.220000</td>\n",
       "      <td>2.900000</td>\n",
       "      <td>4.975000</td>\n",
       "      <td>12.800000</td>\n",
       "      <td>...</td>\n",
       "      <td>10.600000</td>\n",
       "      <td>287.000000</td>\n",
       "      <td>8.700000</td>\n",
       "      <td>8.175000</td>\n",
       "      <td>10.900000</td>\n",
       "      <td>1020.500000</td>\n",
       "      <td>1020.500000</td>\n",
       "      <td>13.000000</td>\n",
       "      <td>13.500000</td>\n",
       "      <td>NaN</td>\n",
       "    </tr>\n",
       "    <tr>\n",
       "      <th>max</th>\n",
       "      <td>2019-08-30 03:38:00</td>\n",
       "      <td>4.0</td>\n",
       "      <td>48.840000</td>\n",
       "      <td>126.0</td>\n",
       "      <td>78.000000</td>\n",
       "      <td>95540.550000</td>\n",
       "      <td>10000.000000</td>\n",
       "      <td>9.700000</td>\n",
       "      <td>99.000000</td>\n",
       "      <td>32.000000</td>\n",
       "      <td>...</td>\n",
       "      <td>28.200000</td>\n",
       "      <td>360.000000</td>\n",
       "      <td>22.300000</td>\n",
       "      <td>90.000000</td>\n",
       "      <td>29.500000</td>\n",
       "      <td>1035.900000</td>\n",
       "      <td>1035.900000</td>\n",
       "      <td>18.600000</td>\n",
       "      <td>18.600000</td>\n",
       "      <td>NaN</td>\n",
       "    </tr>\n",
       "    <tr>\n",
       "      <th>std</th>\n",
       "      <td>NaN</td>\n",
       "      <td>0.0</td>\n",
       "      <td>0.000103</td>\n",
       "      <td>0.0</td>\n",
       "      <td>1.342375</td>\n",
       "      <td>1007.730928</td>\n",
       "      <td>205.429666</td>\n",
       "      <td>1.410463</td>\n",
       "      <td>2.783407</td>\n",
       "      <td>3.988080</td>\n",
       "      <td>...</td>\n",
       "      <td>4.517554</td>\n",
       "      <td>90.988959</td>\n",
       "      <td>3.799395</td>\n",
       "      <td>16.126253</td>\n",
       "      <td>4.677949</td>\n",
       "      <td>8.426747</td>\n",
       "      <td>8.487089</td>\n",
       "      <td>2.721185</td>\n",
       "      <td>2.184565</td>\n",
       "      <td>NaN</td>\n",
       "    </tr>\n",
       "  </tbody>\n",
       "</table>\n",
       "<p>8 rows × 23 columns</p>\n",
       "</div>"
      ],
      "text/plain": [
       "                                DATE  Q_FLAG     LATITUDE  LONGITUDE  \\\n",
       "count                           9458  9458.0  9458.000000     9458.0   \n",
       "mean   2006-02-22 21:01:48.086276096     4.0    48.830001      126.0   \n",
       "min              1989-04-01 11:33:00     4.0    48.830000      126.0   \n",
       "25%              2005-07-04 21:15:00     4.0    48.830000      126.0   \n",
       "50%              2005-10-27 14:15:00     4.0    48.830000      126.0   \n",
       "75%              2006-02-13 10:30:00     4.0    48.830000      126.0   \n",
       "max              2019-08-30 03:38:00     4.0    48.840000      126.0   \n",
       "std                              NaN     0.0     0.000103        0.0   \n",
       "\n",
       "             DEPTH          VCAR          VTPK         VWH$         VCMX  \\\n",
       "count  9458.000000   9458.000000   9458.000000  9457.000000  9458.000000   \n",
       "mean     72.376930     20.358883     16.032457     2.044464     3.571114   \n",
       "min      72.000000      0.000000      0.000000     0.000000     0.000000   \n",
       "25%      72.000000      1.470000      8.980000     1.100000     1.900000   \n",
       "50%      72.000000      2.670000     11.130000     1.800000     3.100000   \n",
       "75%      72.000000      4.497500     14.220000     2.900000     4.975000   \n",
       "max      78.000000  95540.550000  10000.000000     9.700000    99.000000   \n",
       "std       1.342375   1007.730928    205.429666     1.410463     2.783407   \n",
       "\n",
       "              VTP$  ...         GSPD       WDIR.1       WSPD.1     WSS$.1  \\\n",
       "count  9457.000000  ...  9458.000000  9458.000000  9458.000000  78.000000   \n",
       "mean     10.289838  ...     7.820713   195.913618     6.281931   9.150000   \n",
       "min       2.000000  ...     0.000000     0.000000     0.000000   0.600000   \n",
       "25%       8.000000  ...     4.300000   114.000000     3.300000   3.725000   \n",
       "50%      10.200000  ...     7.000000   191.000000     5.600000   6.150000   \n",
       "75%      12.800000  ...    10.600000   287.000000     8.700000   8.175000   \n",
       "max      32.000000  ...    28.200000   360.000000    22.300000  90.000000   \n",
       "std       3.988080  ...     4.517554    90.988959     3.799395  16.126253   \n",
       "\n",
       "            GSPD.1         ATMS       ATMS.1         DRYT         SSTP  \\\n",
       "count  9458.000000  9458.000000  9457.000000  9458.000000  9458.000000   \n",
       "mean      8.093106  1015.032956  1015.016422    10.954472    11.687915   \n",
       "min       0.000000   974.400000   974.400000    -7.900000     7.300000   \n",
       "25%       4.500000  1010.300000  1010.300000     8.900000     9.800000   \n",
       "50%       7.200000  1016.000000  1016.000000    11.000000    11.500000   \n",
       "75%      10.900000  1020.500000  1020.500000    13.000000    13.500000   \n",
       "max      29.500000  1035.900000  1035.900000    18.600000    18.600000   \n",
       "std       4.677949     8.426747     8.487089     2.721185     2.184565   \n",
       "\n",
       "       Unnamed: 23  \n",
       "count          0.0  \n",
       "mean           NaN  \n",
       "min            NaN  \n",
       "25%            NaN  \n",
       "50%            NaN  \n",
       "75%            NaN  \n",
       "max            NaN  \n",
       "std            NaN  \n",
       "\n",
       "[8 rows x 23 columns]"
      ]
     },
     "execution_count": 14,
     "metadata": {},
     "output_type": "execute_result"
    }
   ],
   "source": [
    "#filter for Q_Flag = 4; indicating appears erraneous \n",
    "filteredqflag_4=filter_rows_byqflag(df,'Q_FLAG',4)\n",
    "filteredqflag_4.describe()"
   ]
  },
  {
   "cell_type": "markdown",
   "id": "24564e28",
   "metadata": {},
   "source": [
    "Q_FLAG value of 4: indicated records appear erraneous.\n",
    "VCAR and VTPK appear at max values \n",
    "    - VCAR; 95,000, since VCAR is waveheight in meters this does seem to be incorrect. \n",
    "    - VTPK; 10,000, since VTPK is dominant wave period in seconds, this also appears to be incorrect.\n",
    "VCAR and VTPK do not seem to align with VWH&dollar & VTP\\$. \n",
    "VCAR and VTPK also display large std. \n"
   ]
  },
  {
   "cell_type": "code",
   "execution_count": 15,
   "id": "614395c1",
   "metadata": {},
   "outputs": [
    {
     "name": "stdout",
     "output_type": "stream",
     "text": [
      "year\n",
      "1989       1\n",
      "1992       1\n",
      "1993       1\n",
      "1994       4\n",
      "1995       8\n",
      "1996       4\n",
      "1997      68\n",
      "2000       2\n",
      "2002     270\n",
      "2003     422\n",
      "2004      37\n",
      "2005    5315\n",
      "2006    1972\n",
      "2007       6\n",
      "2008    1059\n",
      "2009      12\n",
      "2010       2\n",
      "2011       5\n",
      "2012       9\n",
      "2013      14\n",
      "2014      32\n",
      "2015      18\n",
      "2016      19\n",
      "2017       9\n",
      "2018     149\n",
      "2019      19\n",
      "dtype: int64\n"
     ]
    }
   ],
   "source": [
    "#look at distribution of erraneous records by year\n",
    "filteredqflag_4['year'] = filteredqflag_4['DATE'].dt.year #add year column\n",
    "occurence_qflag4_year = filteredqflag_4.groupby('year').size() #group by year\n",
    "print(occurence_qflag4_year)"
   ]
  },
  {
   "cell_type": "markdown",
   "id": "5d299242",
   "metadata": {},
   "source": [
    "Look at years where VTP$ and VWH$ contain null values. The values for these columns seem more correct than values in VCAR and VTPK which are measurements of the same values, just calculated by MEDS wheras VTP$ and VWh$ are measured by the buoy. See if years overlapp erranous records, to see if null values can be imputed from VTPK and VCAR and VCAR and VTPK can then be dropped. "
   ]
  },
  {
   "cell_type": "code",
   "execution_count": 16,
   "id": "f6930cab",
   "metadata": {},
   "outputs": [
    {
     "name": "stdout",
     "output_type": "stream",
     "text": [
      "[1988 1989 1990 1991 1992]\n"
     ]
    }
   ],
   "source": [
    "#look at years where VTP$ and VWH$ contain null values: \n",
    "columns_of_interest = ['VTP$','VWH$']\n",
    "rows_withnull = df[columns_of_interest].isnull().any(axis=1)\n",
    "df['YEAR']=pd.to_datetime(df['DATE']).dt.year\n",
    "years_with_nulls = df.loc[rows_withnull, 'YEAR'].unique()\n",
    "print(years_with_nulls)"
   ]
  },
  {
   "cell_type": "markdown",
   "id": "32658f31",
   "metadata": {},
   "source": [
    "Appears that years with null values for VTP$ and VWH$ do not strongly overlapp with years where q-flag =4, therefore null values for VTP$ and VWH$ will be imputed from VTPK and VCAR, then VTPK and VCAR will be dropped as they appear to be at least two erraneous measurements for q_flag = 4. "
   ]
  },
  {
   "cell_type": "code",
   "execution_count": 17,
   "id": "1f83b6c8",
   "metadata": {},
   "outputs": [
    {
     "name": "stdout",
     "output_type": "stream",
     "text": [
      "Years and number of occurences with unusualy large waveheight and/or long wave period:\n",
      "YEAR\n",
      "1989       1\n",
      "1994       1\n",
      "1995       2\n",
      "1996       2\n",
      "1997       5\n",
      "2004       2\n",
      "2005      17\n",
      "2019     693\n",
      "2020    5281\n",
      "2021    8507\n",
      "2022    2361\n",
      "dtype: int64\n"
     ]
    }
   ],
   "source": [
    "#doube check and look for years where VCAR > 40 and VPTK >= 100\n",
    "condition_vcar = df['VCAR'] > 40\n",
    "condition_vtpk =df['VTPK'] >= 100\n",
    "\n",
    "rows_with_conditions = condition_vcar | condition_vtpk\n",
    "filtereddf_conditions = df[rows_with_conditions]\n",
    "occurences_by_year = filtereddf_conditions.groupby('YEAR').size()\n",
    "print('Years and number of occurences with unusualy large waveheight and/or long wave period:')\n",
    "print(occurences_by_year)"
   ]
  },
  {
   "cell_type": "markdown",
   "id": "e1be7709",
   "metadata": {},
   "source": [
    "Values for VCAR and VTPK being 40m and 100s are selected as this would be an extremely huge wave and long wave period. As far as records show there have not been waves of that size in this area since the last tsunami which was in the 1700s (insert reference). The only year that overlapps with the missing values in VTP$ and VWH$ is 1989. \n",
    "Approach: \n",
    "Values will be imputed from VCAR and VTPK, then check for one large value in 1989 isolate value and replace it with average of surrounding values. VCAR and VTPK will be dropped and VTP$ and VWH$ will be used. "
   ]
  },
  {
   "cell_type": "code",
   "execution_count": 18,
   "id": "8dad13c4",
   "metadata": {},
   "outputs": [
    {
     "data": {
      "image/png": "[encoded data removed]",
      "text/plain": [
       "<Figure size 1200x600 with 1 Axes>"
      ]
     },
     "metadata": {},
     "output_type": "display_data"
    }
   ],
   "source": [
    "\n",
    "\n",
    "# Assuming 'filteredqflag_4' is your DataFrame with the 'year' column added\n",
    "# Assuming 'occurence_qflag4_year' is your Series with the occurrences by year\n",
    "# Assuming 'df' is your original DataFrame\n",
    "# Replace 'VCAR' and 'VTPK' with the actual column names you're interested in\n",
    "\n",
    "# Plot for occurences with Q_FLAG == 4 and unusual wave characteristics\n",
    "plt.figure(figsize=(12, 6))\n",
    "\n",
    "# Plot for occurences with Q_FLAG == 4\n",
    "condition_qflag_4 = (df['Q_FLAG'] == 4)\n",
    "occurence_qflag4_year = df[condition_qflag_4].groupby('YEAR').size()\n",
    "plt.bar(occurence_qflag4_year.index, occurence_qflag4_year, alpha=0.7, label='Q_FLAG == 4')\n",
    "\n",
    "# Plot for occurrences with unusual wave characteristics\n",
    "condition_wave_characteristics = (df['VCAR'] > 40) | (df['VTPK'] >= 100)\n",
    "occurrences_wave_characteristics = df[condition_wave_characteristics].groupby('YEAR').size()\n",
    "plt.bar(occurrences_wave_characteristics.index, occurrences_wave_characteristics, alpha=0.7, label='Unusual Characteristics')\n",
    "\n",
    "plt.xlabel('Year')\n",
    "plt.ylabel('Number of Occurrences')\n",
    "plt.title('Comparison of Occurrences with Q_FLAG == 4 and Unusual Wave Characteristics')\n",
    "plt.legend()\n",
    "plt.show()\n"
   ]
  },
  {
   "cell_type": "markdown",
   "id": "d00af7e8",
   "metadata": {},
   "source": [
    "The unusually large values found in VCAR and VTPK do not seem to account for erraneous records(q_flag=4) which are predominantely in 2005. \n"
   ]
  },
  {
   "cell_type": "markdown",
   "id": "b9fe2479",
   "metadata": {},
   "source": [
    "### Impute values for wave height and wave period"
   ]
  },
  {
   "cell_type": "code",
   "execution_count": 19,
   "id": "21ab27a4",
   "metadata": {
    "scrolled": true
   },
   "outputs": [
    {
     "data": {
      "text/html": [
       "<div>\n",
       "<style scoped>\n",
       "    .dataframe tbody tr th:only-of-type {\n",
       "        vertical-align: middle;\n",
       "    }\n",
       "\n",
       "    .dataframe tbody tr th {\n",
       "        vertical-align: top;\n",
       "    }\n",
       "\n",
       "    .dataframe thead th {\n",
       "        text-align: right;\n",
       "    }\n",
       "</style>\n",
       "<table border=\"1\" class=\"dataframe\">\n",
       "  <thead>\n",
       "    <tr style=\"text-align: right;\">\n",
       "      <th></th>\n",
       "      <th>VTPK</th>\n",
       "      <th>VCAR</th>\n",
       "    </tr>\n",
       "  </thead>\n",
       "  <tbody>\n",
       "    <tr>\n",
       "      <th>count</th>\n",
       "      <td>237882.000000</td>\n",
       "      <td>237882.000000</td>\n",
       "    </tr>\n",
       "    <tr>\n",
       "      <th>mean</th>\n",
       "      <td>718.423131</td>\n",
       "      <td>710.755579</td>\n",
       "    </tr>\n",
       "    <tr>\n",
       "      <th>std</th>\n",
       "      <td>2562.358205</td>\n",
       "      <td>2572.008777</td>\n",
       "    </tr>\n",
       "    <tr>\n",
       "      <th>min</th>\n",
       "      <td>0.000000</td>\n",
       "      <td>0.000000</td>\n",
       "    </tr>\n",
       "    <tr>\n",
       "      <th>25%</th>\n",
       "      <td>9.100000</td>\n",
       "      <td>1.370000</td>\n",
       "    </tr>\n",
       "    <tr>\n",
       "      <th>50%</th>\n",
       "      <td>11.130000</td>\n",
       "      <td>2.080000</td>\n",
       "    </tr>\n",
       "    <tr>\n",
       "      <th>75%</th>\n",
       "      <td>13.470000</td>\n",
       "      <td>3.140000</td>\n",
       "    </tr>\n",
       "    <tr>\n",
       "      <th>max</th>\n",
       "      <td>10000.000000</td>\n",
       "      <td>95540.550000</td>\n",
       "    </tr>\n",
       "  </tbody>\n",
       "</table>\n",
       "</div>"
      ],
      "text/plain": [
       "                VTPK           VCAR\n",
       "count  237882.000000  237882.000000\n",
       "mean      718.423131     710.755579\n",
       "std      2562.358205    2572.008777\n",
       "min         0.000000       0.000000\n",
       "25%         9.100000       1.370000\n",
       "50%        11.130000       2.080000\n",
       "75%        13.470000       3.140000\n",
       "max     10000.000000   95540.550000"
      ]
     },
     "execution_count": 19,
     "metadata": {},
     "output_type": "execute_result"
    }
   ],
   "source": [
    "df[['VTPK','VCAR']].describe() #max wave height is indicated at 10,000m this does not seem correct as seen above "
   ]
  },
  {
   "cell_type": "code",
   "execution_count": 20,
   "id": "75ddbc9d",
   "metadata": {
    "scrolled": true
   },
   "outputs": [
    {
     "data": {
      "image/png": "[encoded data removed]",
      "text/plain": [
       "<Figure size 1000x600 with 2 Axes>"
      ]
     },
     "metadata": {},
     "output_type": "display_data"
    }
   ],
   "source": [
    "#Look at distribution of VTPK and VCAR \n",
    "num_bins = int(np.sqrt(len(df['VCAR'])))\n",
    "plt.figure(figsize=(10,6))\n",
    "\n",
    "plt.subplot(2,1,1)\n",
    "plt.hist(df['VTPK'], bins=num_bins, color ='blue', edgecolor ='green')\n",
    "plt.title('Distribution of Wave Period')\n",
    "plt.xlabel('Wave Period (s)')\n",
    "plt.ylabel('Frequency')\n",
    "\n",
    "plt.subplot(2,1,2)\n",
    "plt.hist(df['VCAR'], bins =num_bins, color= 'purple', edgecolor= 'green')\n",
    "plt.title('Distribution of Wave Height')\n",
    "plt.xlabel('Wave Height (m)')\n",
    "plt.ylabel('Frequency')\n",
    "\n",
    "plt.tight_layout()\n",
    "plt.show()"
   ]
  },
  {
   "cell_type": "markdown",
   "id": "8f187a68",
   "metadata": {},
   "source": [
    "There are clear outliers in wave height and wave period. "
   ]
  },
  {
   "cell_type": "code",
   "execution_count": 21,
   "id": "4683ef64",
   "metadata": {},
   "outputs": [
    {
     "name": "stdout",
     "output_type": "stream",
     "text": [
      "count of occurences, wave period over 10,000 seconds: 16846\n"
     ]
    }
   ],
   "source": [
    "val_over10000= (df['VTPK']>= 10000)\n",
    "count_over_10000=val_over10000.sum()\n",
    "print('count of occurences, wave period over 10,000 seconds:',count_over_10000)"
   ]
  },
  {
   "cell_type": "code",
   "execution_count": 22,
   "id": "14805cf4",
   "metadata": {},
   "outputs": [
    {
     "name": "stdout",
     "output_type": "stream",
     "text": [
      "count of occurences, wave height over 90,000 meters: 1\n"
     ]
    }
   ],
   "source": [
    "val_over90000= (df['VCAR']>= 90000)\n",
    "count_over_90000=val_over90000.sum()\n",
    "print('count of occurences, wave height over 90,000 meters:',count_over_90000)"
   ]
  },
  {
   "cell_type": "code",
   "execution_count": 23,
   "id": "7c325012",
   "metadata": {},
   "outputs": [
    {
     "data": {
      "image/png": "[encoded data removed]",
      "text/plain": [
       "<Figure size 640x480 with 2 Axes>"
      ]
     },
     "metadata": {},
     "output_type": "display_data"
    }
   ],
   "source": [
    "#plot distribution of VTP$ and VWH$: figure out wether to use VTP$/VWH$ or VTPK/VCAR \n",
    "\n",
    "plt.subplot(2,1,1)\n",
    "plt.hist(df['VTP$'], bins=num_bins, color ='blue', edgecolor ='green')\n",
    "plt.title('Distribution of Wave Period measured by Buoy')\n",
    "plt.xlabel('Wave Period (s)')\n",
    "plt.ylabel('Frequency')\n",
    "\n",
    "plt.subplot(2,1,2)\n",
    "plt.hist(df['VWH$'], bins =num_bins, color= 'purple', edgecolor= 'green')\n",
    "plt.title('Distribution of Wave Height measured by Buoy')\n",
    "plt.xlabel('Wave Height (m)')\n",
    "plt.ylabel('Frequency')\n",
    "\n",
    "plt.tight_layout()\n",
    "plt.show()\n"
   ]
  },
  {
   "cell_type": "code",
   "execution_count": 24,
   "id": "f6621942",
   "metadata": {},
   "outputs": [
    {
     "data": {
      "text/plain": [
       "17418"
      ]
     },
     "execution_count": 24,
     "metadata": {},
     "output_type": "execute_result"
    }
   ],
   "source": [
    "#VWH$ significant wave height (m) measured by buoy. \n",
    "df['VWH$'].isnull().sum()"
   ]
  },
  {
   "cell_type": "code",
   "execution_count": 25,
   "id": "1fbe64d7",
   "metadata": {},
   "outputs": [
    {
     "data": {
      "text/plain": [
       "(237882, 25)"
      ]
     },
     "execution_count": 25,
     "metadata": {},
     "output_type": "execute_result"
    }
   ],
   "source": [
    "df.shape"
   ]
  },
  {
   "cell_type": "code",
   "execution_count": 26,
   "id": "eaed65e0",
   "metadata": {},
   "outputs": [],
   "source": [
    "#impute miss values of VWH$ with corresponding VCAR values\n",
    "df['VWH$'].fillna(df['VCAR'], inplace=True)"
   ]
  },
  {
   "cell_type": "code",
   "execution_count": 27,
   "id": "372980fc",
   "metadata": {
    "scrolled": true
   },
   "outputs": [
    {
     "data": {
      "text/plain": [
       "STN_ID              0\n",
       "DATE                0\n",
       "Q_FLAG              0\n",
       "LATITUDE            0\n",
       "LONGITUDE           0\n",
       "DEPTH               0\n",
       "VCAR                0\n",
       "VTPK                0\n",
       "VWH$                0\n",
       "VCMX                0\n",
       "VTP$            22571\n",
       "WDIR                0\n",
       "WSPD                0\n",
       "WSS$           209645\n",
       "GSPD                0\n",
       "WDIR.1              0\n",
       "WSPD.1              0\n",
       "WSS$.1         209645\n",
       "GSPD.1              0\n",
       "ATMS                5\n",
       "ATMS.1           5297\n",
       "DRYT                0\n",
       "SSTP                0\n",
       "Unnamed: 23    237882\n",
       "YEAR                0\n",
       "dtype: int64"
      ]
     },
     "execution_count": 27,
     "metadata": {},
     "output_type": "execute_result"
    }
   ],
   "source": [
    "df.isnull().sum()"
   ]
  },
  {
   "cell_type": "code",
   "execution_count": 28,
   "id": "996306ab",
   "metadata": {},
   "outputs": [
    {
     "data": {
      "text/plain": [
       "Text(0, 0.5, 'Frequency')"
      ]
     },
     "execution_count": 28,
     "metadata": {},
     "output_type": "execute_result"
    },
    {
     "data": {
      "image/png": "[encoded data removed]",
      "text/plain": [
       "<Figure size 640x480 with 1 Axes>"
      ]
     },
     "metadata": {},
     "output_type": "display_data"
    }
   ],
   "source": [
    "#check distribution of VWH$ \n",
    "\n",
    "plt.hist(df['VWH$'], bins =num_bins, color= 'purple', edgecolor= 'green')\n",
    "plt.title('Distribution of Wave Height measured by Buoy')\n",
    "plt.xlabel('Wave Height (m)')\n",
    "plt.ylabel('Frequency')"
   ]
  },
  {
   "cell_type": "code",
   "execution_count": 29,
   "id": "009a4a79",
   "metadata": {},
   "outputs": [
    {
     "data": {
      "text/plain": [
       "count    237882.000000\n",
       "mean          2.197540\n",
       "std           1.280615\n",
       "min           0.000000\n",
       "25%           1.300000\n",
       "50%           2.000000\n",
       "75%           2.800000\n",
       "max         238.800000\n",
       "Name: VWH$, dtype: float64"
      ]
     },
     "execution_count": 29,
     "metadata": {},
     "output_type": "execute_result"
    }
   ],
   "source": [
    "df['VWH$'].describe()\n"
   ]
  },
  {
   "cell_type": "code",
   "execution_count": 30,
   "id": "28d0eb3e",
   "metadata": {},
   "outputs": [
    {
     "data": {
      "text/html": [
       "<div>\n",
       "<style scoped>\n",
       "    .dataframe tbody tr th:only-of-type {\n",
       "        vertical-align: middle;\n",
       "    }\n",
       "\n",
       "    .dataframe tbody tr th {\n",
       "        vertical-align: top;\n",
       "    }\n",
       "\n",
       "    .dataframe thead th {\n",
       "        text-align: right;\n",
       "    }\n",
       "</style>\n",
       "<table border=\"1\" class=\"dataframe\">\n",
       "  <thead>\n",
       "    <tr style=\"text-align: right;\">\n",
       "      <th></th>\n",
       "      <th>STN_ID</th>\n",
       "      <th>DATE</th>\n",
       "      <th>Q_FLAG</th>\n",
       "      <th>LATITUDE</th>\n",
       "      <th>LONGITUDE</th>\n",
       "      <th>DEPTH</th>\n",
       "      <th>VCAR</th>\n",
       "      <th>VTPK</th>\n",
       "      <th>VWH$</th>\n",
       "      <th>VCMX</th>\n",
       "      <th>...</th>\n",
       "      <th>WDIR.1</th>\n",
       "      <th>WSPD.1</th>\n",
       "      <th>WSS$.1</th>\n",
       "      <th>GSPD.1</th>\n",
       "      <th>ATMS</th>\n",
       "      <th>ATMS.1</th>\n",
       "      <th>DRYT</th>\n",
       "      <th>SSTP</th>\n",
       "      <th>Unnamed: 23</th>\n",
       "      <th>YEAR</th>\n",
       "    </tr>\n",
       "  </thead>\n",
       "  <tbody>\n",
       "    <tr>\n",
       "      <th>2850</th>\n",
       "      <td>C46206</td>\n",
       "      <td>1989-04-01 11:33:00</td>\n",
       "      <td>4</td>\n",
       "      <td>48.83</td>\n",
       "      <td>126.0</td>\n",
       "      <td>73.0</td>\n",
       "      <td>238.8</td>\n",
       "      <td>13.47</td>\n",
       "      <td>238.8</td>\n",
       "      <td>6.2</td>\n",
       "      <td>...</td>\n",
       "      <td>147.0</td>\n",
       "      <td>11.3</td>\n",
       "      <td>NaN</td>\n",
       "      <td>15.1</td>\n",
       "      <td>1003.8</td>\n",
       "      <td>NaN</td>\n",
       "      <td>7.2</td>\n",
       "      <td>7.9</td>\n",
       "      <td>NaN</td>\n",
       "      <td>1989</td>\n",
       "    </tr>\n",
       "  </tbody>\n",
       "</table>\n",
       "<p>1 rows × 25 columns</p>\n",
       "</div>"
      ],
      "text/plain": [
       "      STN_ID                DATE  Q_FLAG  LATITUDE  LONGITUDE  DEPTH   VCAR  \\\n",
       "2850  C46206 1989-04-01 11:33:00       4     48.83      126.0   73.0  238.8   \n",
       "\n",
       "       VTPK   VWH$  VCMX  ...  WDIR.1  WSPD.1  WSS$.1  GSPD.1    ATMS  ATMS.1  \\\n",
       "2850  13.47  238.8   6.2  ...   147.0    11.3     NaN    15.1  1003.8     NaN   \n",
       "\n",
       "      DRYT  SSTP  Unnamed: 23  YEAR  \n",
       "2850   7.2   7.9          NaN  1989  \n",
       "\n",
       "[1 rows x 25 columns]"
      ]
     },
     "execution_count": 30,
     "metadata": {},
     "output_type": "execute_result"
    }
   ],
   "source": [
    "#find occurence(s) of waveheight > 40 \n",
    "condition_waveheight = df['VWH$'] > 40\n",
    "filtered_waveheight = df[condition_waveheight]\n",
    "filtered_waveheight\n"
   ]
  },
  {
   "cell_type": "code",
   "execution_count": 31,
   "id": "f0065736",
   "metadata": {},
   "outputs": [
    {
     "name": "stdout",
     "output_type": "stream",
     "text": [
      "replaced value: 3.6399999999999997\n"
     ]
    }
   ],
   "source": [
    "#replace VWH$ value >40m with average of values from row above and row below. \n",
    "index_replace = df.index[condition_waveheight][0] #there is only one occurence so first index\n",
    "\n",
    "if index_replace -1 in df.index and index_replace +1 in df.index:\n",
    "    #find average of values 1 above and 1 below, index of VWH$ that needs to be replaced\n",
    "    average_val = (df.at[index_replace-1, 'VWH$'] + df.at[index_replace +1, 'VWH$'])/2\n",
    "    df.at[index_replace, 'VWH$'] =average_val\n",
    "#check to see if value has been replaced\n",
    "index_check = 2850\n",
    "replaced_val =df.at[index_check, 'VWH$']\n",
    "print('replaced value:', replaced_val)\n",
    "\n",
    "    "
   ]
  },
  {
   "cell_type": "code",
   "execution_count": 32,
   "id": "d29cfecb",
   "metadata": {},
   "outputs": [
    {
     "data": {
      "text/plain": [
       "Text(0, 0.5, 'Frequency')"
      ]
     },
     "execution_count": 32,
     "metadata": {},
     "output_type": "execute_result"
    },
    {
     "data": {
      "image/png": "[encoded data removed]",
      "text/plain": [
       "<Figure size 640x480 with 1 Axes>"
      ]
     },
     "metadata": {},
     "output_type": "display_data"
    }
   ],
   "source": [
    "#Check distribution again of VWH$\n",
    "num_bins = int(np.sqrt(len(df['VWH$'])))\n",
    "plt.hist(df['VWH$'], bins =num_bins, color= 'purple', edgecolor= 'green')\n",
    "plt.title('Distribution of Wave Height measured by Buoy')\n",
    "plt.xlabel('Wave Height (m)')\n",
    "plt.ylabel('Frequency')\n"
   ]
  },
  {
   "cell_type": "code",
   "execution_count": 33,
   "id": "c14b4c03",
   "metadata": {},
   "outputs": [
    {
     "name": "stdout",
     "output_type": "stream",
     "text": [
      "occurences of waveheight over 10 m: 13\n"
     ]
    }
   ],
   "source": [
    "#see number of occurences where wave height is over 10 meteres: \n",
    "\n",
    "waveheight_over_10m = len(df[df['VWH$']> 10])\n",
    "print('occurences of waveheight over 10 m:', waveheight_over_10m)"
   ]
  },
  {
   "cell_type": "markdown",
   "id": "dec6d4e3",
   "metadata": {},
   "source": [
    "For now waveheight over 10m will be left "
   ]
  },
  {
   "cell_type": "code",
   "execution_count": 34,
   "id": "6d5548eb",
   "metadata": {},
   "outputs": [],
   "source": [
    "#impute missing values of VTP$ with VTPK \n",
    "df['VTP$'].fillna(df['VTPK'], inplace= True)"
   ]
  },
  {
   "cell_type": "code",
   "execution_count": 35,
   "id": "1d1a95ed",
   "metadata": {},
   "outputs": [
    {
     "data": {
      "text/plain": [
       "STN_ID              0\n",
       "DATE                0\n",
       "Q_FLAG              0\n",
       "LATITUDE            0\n",
       "LONGITUDE           0\n",
       "DEPTH               0\n",
       "VCAR                0\n",
       "VTPK                0\n",
       "VWH$                0\n",
       "VCMX                0\n",
       "VTP$                0\n",
       "WDIR                0\n",
       "WSPD                0\n",
       "WSS$           209645\n",
       "GSPD                0\n",
       "WDIR.1              0\n",
       "WSPD.1              0\n",
       "WSS$.1         209645\n",
       "GSPD.1              0\n",
       "ATMS                5\n",
       "ATMS.1           5297\n",
       "DRYT                0\n",
       "SSTP                0\n",
       "Unnamed: 23    237882\n",
       "YEAR                0\n",
       "dtype: int64"
      ]
     },
     "execution_count": 35,
     "metadata": {},
     "output_type": "execute_result"
    }
   ],
   "source": [
    "df.isnull().sum()"
   ]
  },
  {
   "cell_type": "code",
   "execution_count": 36,
   "id": "b556ade0",
   "metadata": {},
   "outputs": [
    {
     "data": {
      "text/plain": [
       "Text(0, 0.5, 'Frequency')"
      ]
     },
     "execution_count": 36,
     "metadata": {},
     "output_type": "execute_result"
    },
    {
     "data": {
      "image/png": "[encoded data removed]",
      "text/plain": [
       "<Figure size 640x480 with 1 Axes>"
      ]
     },
     "metadata": {},
     "output_type": "display_data"
    }
   ],
   "source": [
    "#look at distribution of wave period\n",
    "num_bins = int(np.sqrt(len(df['VTP$'])))\n",
    "plt.hist(df['VTP$'], bins =num_bins, color= 'purple', edgecolor= 'green')\n",
    "plt.title('Distribution of Wave period measured by Buoy')\n",
    "plt.xlabel('Wave Period (s)')\n",
    "plt.ylabel('Frequency')"
   ]
  },
  {
   "cell_type": "code",
   "execution_count": 37,
   "id": "5b9ed42d",
   "metadata": {},
   "outputs": [
    {
     "name": "stdout",
     "output_type": "stream",
     "text": [
      "occurences of wave period longer than 25 seconds: 419\n"
     ]
    }
   ],
   "source": [
    "#occurences of wave period over 25 seconds\n",
    "waveperiod_over25s = len(df[df['VTP$']>25])\n",
    "print('occurences of wave period longer than 25 seconds:', waveperiod_over25s)"
   ]
  },
  {
   "cell_type": "markdown",
   "id": "b982e01f",
   "metadata": {},
   "source": [
    "for now will leave longer wave periods as is."
   ]
  },
  {
   "cell_type": "markdown",
   "id": "ffeb7b9b",
   "metadata": {},
   "source": [
    "### Deal with remaining Null values"
   ]
  },
  {
   "cell_type": "markdown",
   "id": "6e9d6e41",
   "metadata": {},
   "source": [
    "Remaining Null Values: \n",
    "- WSSdollar: horizontal scalar wind speed, column WSPD gives horizontal windspeed so WSSdollar will be dropped. \n",
    "- WSdollar.1: no documentation on what this column is.  Assuming it is windspeed which is already found in another column. This column will also be dropped. \n",
    "- ATMS.1: no documentation about this column. Assuming it is atmospheric pressure at sea level, this information is contained in another column and ATMS.1 will be dropped. \n",
    "- Unamed: no documentation on this column and will be dropped as contains all null values. \n",
    "- ATMS: contains 5 Nulls, will assess where Nulls are impute with averages from surrounding indecies. "
   ]
  },
  {
   "cell_type": "code",
   "execution_count": 38,
   "id": "e8470dc4",
   "metadata": {},
   "outputs": [
    {
     "data": {
      "text/plain": [
       "STN_ID              0\n",
       "DATE                0\n",
       "Q_FLAG              0\n",
       "LATITUDE            0\n",
       "LONGITUDE           0\n",
       "DEPTH               0\n",
       "VCAR                0\n",
       "VTPK                0\n",
       "VWH$                0\n",
       "VCMX                0\n",
       "VTP$                0\n",
       "WDIR                0\n",
       "WSPD                0\n",
       "WSS$           209645\n",
       "GSPD                0\n",
       "WDIR.1              0\n",
       "WSPD.1              0\n",
       "WSS$.1         209645\n",
       "GSPD.1              0\n",
       "ATMS                0\n",
       "ATMS.1           5297\n",
       "DRYT                0\n",
       "SSTP                0\n",
       "Unnamed: 23    237882\n",
       "YEAR                0\n",
       "dtype: int64"
      ]
     },
     "execution_count": 38,
     "metadata": {},
     "output_type": "execute_result"
    }
   ],
   "source": [
    "#impute null values in ATMS with averages of surrounding index values. \n",
    "null_indicies_ATMS =df[df['ATMS'].isnull()].index #get indecies of null values in ATMS column\n",
    "\n",
    "#create for loop to impute nulls with averages of indecies above and below\n",
    "for index in null_indicies_ATMS:\n",
    "     #check if there are values above and below and get average if there are.\n",
    "    if index -1 in df.index and index +1 in df.index:\n",
    "        average_ATMSval = (df.at[index-1, 'ATMS'] + df.at[index+1, 'ATMS'])/2\n",
    "        #impute average\n",
    "        df.at[index, 'ATMS'] = average_ATMSval\n",
    "        \n",
    "df.isnull().sum()"
   ]
  },
  {
   "cell_type": "code",
   "execution_count": 39,
   "id": "2e1296bd",
   "metadata": {},
   "outputs": [
    {
     "name": "stdout",
     "output_type": "stream",
     "text": [
      "<class 'pandas.core.frame.DataFrame'>\n",
      "RangeIndex: 237882 entries, 0 to 237881\n",
      "Data columns (total 25 columns):\n",
      " #   Column       Non-Null Count   Dtype         \n",
      "---  ------       --------------   -----         \n",
      " 0   STN_ID       237882 non-null  object        \n",
      " 1   DATE         237882 non-null  datetime64[ns]\n",
      " 2   Q_FLAG       237882 non-null  int64         \n",
      " 3   LATITUDE     237882 non-null  float64       \n",
      " 4   LONGITUDE    237882 non-null  float64       \n",
      " 5   DEPTH        237882 non-null  float64       \n",
      " 6   VCAR         237882 non-null  float64       \n",
      " 7   VTPK         237882 non-null  float64       \n",
      " 8   VWH$         237882 non-null  float64       \n",
      " 9   VCMX         237882 non-null  float64       \n",
      " 10  VTP$         237882 non-null  float64       \n",
      " 11  WDIR         237882 non-null  float64       \n",
      " 12  WSPD         237882 non-null  float64       \n",
      " 13  WSS$         28237 non-null   float64       \n",
      " 14  GSPD         237882 non-null  float64       \n",
      " 15  WDIR.1       237882 non-null  float64       \n",
      " 16  WSPD.1       237882 non-null  float64       \n",
      " 17  WSS$.1       28237 non-null   float64       \n",
      " 18  GSPD.1       237882 non-null  float64       \n",
      " 19  ATMS         237882 non-null  float64       \n",
      " 20  ATMS.1       232585 non-null  float64       \n",
      " 21  DRYT         237882 non-null  float64       \n",
      " 22  SSTP         237882 non-null  float64       \n",
      " 23  Unnamed: 23  0 non-null       float64       \n",
      " 24  YEAR         237882 non-null  int32         \n",
      "dtypes: datetime64[ns](1), float64(21), int32(1), int64(1), object(1)\n",
      "memory usage: 44.5+ MB\n"
     ]
    }
   ],
   "source": [
    "df.info()"
   ]
  },
  {
   "cell_type": "code",
   "execution_count": 44,
   "id": "5ef77c35",
   "metadata": {},
   "outputs": [],
   "source": [
    "#drop columns \n",
    "columns_to_drop = ['WSS$','WSS$.1','ATMS.1','Unnamed: 23','VCAR','VTPK']\n",
    "df.drop(columns=columns_to_drop, axis=1, inplace =True)\n",
    "\n"
   ]
  },
  {
   "cell_type": "code",
   "execution_count": 46,
   "id": "232bc0ad",
   "metadata": {},
   "outputs": [
    {
     "data": {
      "text/plain": [
       "STN_ID       0\n",
       "DATE         0\n",
       "Q_FLAG       0\n",
       "LATITUDE     0\n",
       "LONGITUDE    0\n",
       "DEPTH        0\n",
       "VWH$         0\n",
       "VCMX         0\n",
       "VTP$         0\n",
       "WDIR         0\n",
       "WSPD         0\n",
       "GSPD         0\n",
       "WDIR.1       0\n",
       "WSPD.1       0\n",
       "GSPD.1       0\n",
       "ATMS         0\n",
       "DRYT         0\n",
       "SSTP         0\n",
       "YEAR         0\n",
       "dtype: int64"
      ]
     },
     "execution_count": 46,
     "metadata": {},
     "output_type": "execute_result"
    }
   ],
   "source": [
    "df.isnull().sum()"
   ]
  },
  {
   "cell_type": "code",
   "execution_count": 47,
   "id": "8e38bb04",
   "metadata": {},
   "outputs": [],
   "source": [
    "#export csv of clean data set\n",
    "df.to_csv('laperouse_stn46206_clean.csv', index =False)"
   ]
  },
  {
   "cell_type": "code",
   "execution_count": 49,
   "id": "eed37f1d",
   "metadata": {},
   "outputs": [
    {
     "name": "stdout",
     "output_type": "stream",
     "text": [
      "<class 'pandas.core.frame.DataFrame'>\n",
      "RangeIndex: 237882 entries, 0 to 237881\n",
      "Data columns (total 19 columns):\n",
      " #   Column     Non-Null Count   Dtype         \n",
      "---  ------     --------------   -----         \n",
      " 0   STN_ID     237882 non-null  object        \n",
      " 1   DATE       237882 non-null  datetime64[ns]\n",
      " 2   Q_FLAG     237882 non-null  int64         \n",
      " 3   LATITUDE   237882 non-null  float64       \n",
      " 4   LONGITUDE  237882 non-null  float64       \n",
      " 5   DEPTH      237882 non-null  float64       \n",
      " 6   VWH$       237882 non-null  float64       \n",
      " 7   VCMX       237882 non-null  float64       \n",
      " 8   VTP$       237882 non-null  float64       \n",
      " 9   WDIR       237882 non-null  float64       \n",
      " 10  WSPD       237882 non-null  float64       \n",
      " 11  GSPD       237882 non-null  float64       \n",
      " 12  WDIR.1     237882 non-null  float64       \n",
      " 13  WSPD.1     237882 non-null  float64       \n",
      " 14  GSPD.1     237882 non-null  float64       \n",
      " 15  ATMS       237882 non-null  float64       \n",
      " 16  DRYT       237882 non-null  float64       \n",
      " 17  SSTP       237882 non-null  float64       \n",
      " 18  YEAR       237882 non-null  int32         \n",
      "dtypes: datetime64[ns](1), float64(15), int32(1), int64(1), object(1)\n",
      "memory usage: 33.6+ MB\n"
     ]
    }
   ],
   "source": [
    "df.info()"
   ]
  },
  {
   "cell_type": "markdown",
   "id": "025bdd95-72ae-4d0a-8a20-0dfd1f42b963",
   "metadata": {},
   "source": [
    "# Summary\n",
    "\n",
    "The historical data has now been cleaned and missing values imputed. VCAR and VTPK were flagged with erraneous records, wheras measured values from buoy were not flagged but displayed missing values. A check was done to see if erranous records overlapped missing values, this check showed that there was no strong overlap and missing values of measure wave height and wave period were imputed with values from VCAR and VTPK. Moving forward 'VWHS and VTPS values will be used for wave height and wave period. In future feature analysis Q_Flags on erraneous records may be further assessed, for the purpose of this part of the project they were not assessed further. "
   ]
  },
  {
   "cell_type": "code",
   "execution_count": null,
   "id": "90b0a1b8-f2ac-457d-9fb2-7b58b68200a8",
   "metadata": {},
   "outputs": [],
   "source": []
  }
 ],
 "metadata": {
  "kernelspec": {
   "display_name": "capstone_wavepower",
   "language": "python",
   "name": "capstone_wavepower"
  },
  "language_info": {
   "codemirror_mode": {
    "name": "ipython",
    "version": 3
   },
   "file_extension": ".py",
   "mimetype": "text/x-python",
   "name": "python",
   "nbconvert_exporter": "python",
   "pygments_lexer": "ipython3",
   "version": "3.8.18"
  }
 },
 "nbformat": 4,
 "nbformat_minor": 5
}
