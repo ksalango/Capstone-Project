{
 "cells": [
  {
   "cell_type": "markdown",
   "id": "f26359ba-9959-4749-a3c4-db139e870df8",
   "metadata": {},
   "source": [
    "# Time Series Modelling and Approaches "
   ]
  },
  {
   "cell_type": "markdown",
   "id": "bed21713-5852-4ed3-9786-7061c1ed807f",
   "metadata": {},
   "source": [
    "# Introduction\n",
    "\n",
    "**Goal: Forecast daily wave energy "
   ]
  },
  {
   "cell_type": "code",
   "execution_count": 49,
   "id": "ad78a3ed-a339-4103-aca4-7af987f754fa",
   "metadata": {},
   "outputs": [],
   "source": [
    "import numpy as np\n",
    "import pandas as pd\n",
    "import seaborn as sns\n",
    "import matplotlib.pyplot as plt\n",
    "\n",
    "from statsmodels.tsa.seasonal import seasonal_decompose\n",
    "from statsmodels.tsa.stattools import adfuller\n",
    "from statsmodels.graphics.tsaplots import plot_acf\n",
    "from statsmodels.graphics.tsaplots import plot_pacf"
   ]
  },
  {
   "cell_type": "code",
   "execution_count": 2,
   "id": "a181367f-1833-4075-8b9b-bfca8080039c",
   "metadata": {},
   "outputs": [],
   "source": [
    "#read in cleaned buoy data \n",
    "df = pd.read_csv('../Data/combined_buoy_hindcast.csv')"
   ]
  },
  {
   "cell_type": "code",
   "execution_count": 3,
   "id": "5f588bb4-b999-4258-a153-01d9268c021c",
   "metadata": {},
   "outputs": [
    {
     "data": {
      "text/html": [
       "<div>\n",
       "<style scoped>\n",
       "    .dataframe tbody tr th:only-of-type {\n",
       "        vertical-align: middle;\n",
       "    }\n",
       "\n",
       "    .dataframe tbody tr th {\n",
       "        vertical-align: top;\n",
       "    }\n",
       "\n",
       "    .dataframe thead th {\n",
       "        text-align: right;\n",
       "    }\n",
       "</style>\n",
       "<table border=\"1\" class=\"dataframe\">\n",
       "  <thead>\n",
       "    <tr style=\"text-align: right;\">\n",
       "      <th></th>\n",
       "      <th>STN_ID</th>\n",
       "      <th>Datetime_x</th>\n",
       "      <th>Q_FLAG</th>\n",
       "      <th>LATITUDE</th>\n",
       "      <th>LONGITUDE</th>\n",
       "      <th>DEPTH</th>\n",
       "      <th>VWH$</th>\n",
       "      <th>VCMX</th>\n",
       "      <th>VTP$</th>\n",
       "      <th>WDIR</th>\n",
       "      <th>...</th>\n",
       "      <th>ETTSw</th>\n",
       "      <th>TPSw</th>\n",
       "      <th>VMDSw</th>\n",
       "      <th>MO1</th>\n",
       "      <th>MO2</th>\n",
       "      <th>HS</th>\n",
       "      <th>DMDIR</th>\n",
       "      <th>ANGSPR</th>\n",
       "      <th>INLINE</th>\n",
       "      <th>Datetime_y</th>\n",
       "    </tr>\n",
       "  </thead>\n",
       "  <tbody>\n",
       "    <tr>\n",
       "      <th>0</th>\n",
       "      <td>C46206</td>\n",
       "      <td>1988-11-22 22:34:00</td>\n",
       "      <td>1</td>\n",
       "      <td>48.83</td>\n",
       "      <td>126.0</td>\n",
       "      <td>73.0</td>\n",
       "      <td>5.42</td>\n",
       "      <td>8.4</td>\n",
       "      <td>11.64</td>\n",
       "      <td>234.0</td>\n",
       "      <td>...</td>\n",
       "      <td>0.844</td>\n",
       "      <td>12.229</td>\n",
       "      <td>63.7</td>\n",
       "      <td>0.682</td>\n",
       "      <td>0.564</td>\n",
       "      <td>3.981</td>\n",
       "      <td>67.0</td>\n",
       "      <td>0.8075</td>\n",
       "      <td>0.7153</td>\n",
       "      <td>1988-11-23 00:00:00</td>\n",
       "    </tr>\n",
       "    <tr>\n",
       "      <th>1</th>\n",
       "      <td>C46206</td>\n",
       "      <td>1988-11-23 00:33:00</td>\n",
       "      <td>1</td>\n",
       "      <td>48.83</td>\n",
       "      <td>126.0</td>\n",
       "      <td>73.0</td>\n",
       "      <td>5.89</td>\n",
       "      <td>9.0</td>\n",
       "      <td>14.22</td>\n",
       "      <td>263.0</td>\n",
       "      <td>...</td>\n",
       "      <td>0.844</td>\n",
       "      <td>12.229</td>\n",
       "      <td>63.7</td>\n",
       "      <td>0.682</td>\n",
       "      <td>0.564</td>\n",
       "      <td>3.981</td>\n",
       "      <td>67.0</td>\n",
       "      <td>0.8075</td>\n",
       "      <td>0.7153</td>\n",
       "      <td>1988-11-23 00:00:00</td>\n",
       "    </tr>\n",
       "    <tr>\n",
       "      <th>2</th>\n",
       "      <td>C46206</td>\n",
       "      <td>1988-11-23 01:34:00</td>\n",
       "      <td>1</td>\n",
       "      <td>48.83</td>\n",
       "      <td>126.0</td>\n",
       "      <td>73.0</td>\n",
       "      <td>6.49</td>\n",
       "      <td>10.5</td>\n",
       "      <td>12.80</td>\n",
       "      <td>277.0</td>\n",
       "      <td>...</td>\n",
       "      <td>0.844</td>\n",
       "      <td>12.229</td>\n",
       "      <td>63.7</td>\n",
       "      <td>0.682</td>\n",
       "      <td>0.564</td>\n",
       "      <td>3.981</td>\n",
       "      <td>67.0</td>\n",
       "      <td>0.8075</td>\n",
       "      <td>0.7153</td>\n",
       "      <td>1988-11-23 00:00:00</td>\n",
       "    </tr>\n",
       "    <tr>\n",
       "      <th>3</th>\n",
       "      <td>C46206</td>\n",
       "      <td>1988-11-23 02:34:00</td>\n",
       "      <td>1</td>\n",
       "      <td>48.83</td>\n",
       "      <td>126.0</td>\n",
       "      <td>73.0</td>\n",
       "      <td>7.34</td>\n",
       "      <td>12.1</td>\n",
       "      <td>15.06</td>\n",
       "      <td>275.0</td>\n",
       "      <td>...</td>\n",
       "      <td>0.844</td>\n",
       "      <td>12.229</td>\n",
       "      <td>63.7</td>\n",
       "      <td>0.682</td>\n",
       "      <td>0.564</td>\n",
       "      <td>3.981</td>\n",
       "      <td>67.0</td>\n",
       "      <td>0.8075</td>\n",
       "      <td>0.7153</td>\n",
       "      <td>1988-11-23 00:00:00</td>\n",
       "    </tr>\n",
       "    <tr>\n",
       "      <th>4</th>\n",
       "      <td>C46206</td>\n",
       "      <td>1988-11-23 04:34:00</td>\n",
       "      <td>1</td>\n",
       "      <td>48.83</td>\n",
       "      <td>126.0</td>\n",
       "      <td>73.0</td>\n",
       "      <td>7.71</td>\n",
       "      <td>13.0</td>\n",
       "      <td>14.22</td>\n",
       "      <td>295.0</td>\n",
       "      <td>...</td>\n",
       "      <td>0.844</td>\n",
       "      <td>12.229</td>\n",
       "      <td>63.7</td>\n",
       "      <td>0.682</td>\n",
       "      <td>0.564</td>\n",
       "      <td>3.981</td>\n",
       "      <td>67.0</td>\n",
       "      <td>0.8075</td>\n",
       "      <td>0.7153</td>\n",
       "      <td>1988-11-23 00:00:00</td>\n",
       "    </tr>\n",
       "  </tbody>\n",
       "</table>\n",
       "<p>5 rows × 38 columns</p>\n",
       "</div>"
      ],
      "text/plain": [
       "   STN_ID           Datetime_x  Q_FLAG  LATITUDE  LONGITUDE  DEPTH  VWH$  \\\n",
       "0  C46206  1988-11-22 22:34:00       1     48.83      126.0   73.0  5.42   \n",
       "1  C46206  1988-11-23 00:33:00       1     48.83      126.0   73.0  5.89   \n",
       "2  C46206  1988-11-23 01:34:00       1     48.83      126.0   73.0  6.49   \n",
       "3  C46206  1988-11-23 02:34:00       1     48.83      126.0   73.0  7.34   \n",
       "4  C46206  1988-11-23 04:34:00       1     48.83      126.0   73.0  7.71   \n",
       "\n",
       "   VCMX   VTP$   WDIR  ...  ETTSw    TPSw  VMDSw    MO1    MO2     HS  DMDIR  \\\n",
       "0   8.4  11.64  234.0  ...  0.844  12.229   63.7  0.682  0.564  3.981   67.0   \n",
       "1   9.0  14.22  263.0  ...  0.844  12.229   63.7  0.682  0.564  3.981   67.0   \n",
       "2  10.5  12.80  277.0  ...  0.844  12.229   63.7  0.682  0.564  3.981   67.0   \n",
       "3  12.1  15.06  275.0  ...  0.844  12.229   63.7  0.682  0.564  3.981   67.0   \n",
       "4  13.0  14.22  295.0  ...  0.844  12.229   63.7  0.682  0.564  3.981   67.0   \n",
       "\n",
       "   ANGSPR  INLINE           Datetime_y  \n",
       "0  0.8075  0.7153  1988-11-23 00:00:00  \n",
       "1  0.8075  0.7153  1988-11-23 00:00:00  \n",
       "2  0.8075  0.7153  1988-11-23 00:00:00  \n",
       "3  0.8075  0.7153  1988-11-23 00:00:00  \n",
       "4  0.8075  0.7153  1988-11-23 00:00:00  \n",
       "\n",
       "[5 rows x 38 columns]"
      ]
     },
     "execution_count": 3,
     "metadata": {},
     "output_type": "execute_result"
    }
   ],
   "source": [
    "df.head()"
   ]
  },
  {
   "cell_type": "markdown",
   "id": "e0592ca7-2fb0-4579-beab-0a8658debc94",
   "metadata": {},
   "source": [
    "# Data Dictionary "
   ]
  },
  {
   "cell_type": "markdown",
   "id": "9a9a9c99-753f-476e-ac99-4d3f69a13366",
   "metadata": {},
   "source": [
    "<details>\n",
    "  <summary>Data Dictionary</summary>\n",
    "  \n",
    "### Data Dictionary\n",
    "**Note on Directions;** Directions are given in degrees corresponding to True North: \n",
    "North (N): 0° = 360°\n",
    "East (E): 90°\n",
    "South (S): 180°\n",
    "West (W): 270°\n",
    "\n",
    "- Index, - DATE : Date time excluding minutes, both df_buoy and df_hind joined on this column.\n",
    "- STN_ID: buoy station ID.\n",
    "- Datetime_x: Datetime from df_buoy\n",
    "- DEPTH: Depth in meters.\n",
    "- VWH\\$: Characteristic significant wave height (reported by the buoy) (m)\n",
    "- VCMX: Maximum zero crossing wave height (reported by the buoy) (m)\n",
    "- VTP\\$: Wave spectrum peak period (reported by the buoy) (s)\n",
    "- WDIR: Direction from which the wind is blowing (° True)\n",
    "- WSPD: Horizontal wind speed (m/s)\n",
    "- WSS\\$:Horizontal scalar wind speed (m/s)\n",
    "- GSPD: Gust wind speed (m/s)\n",
    "- ATMS: Atmospheric pressure at sea level (mbar)\n",
    "- DRYT: Dry bulb temperature (air temperature) (°C)\n",
    "- SSTP: Sea surface temperature (°C)\n",
    "- Q_FLAG: 0\n",
    "    - Blank - No quality control (QC) has been performed\n",
    "    - 1- Good - QC has been performed: record appears correct\n",
    "    - 3-Doubtful - QC has been performed: record appears doubtful\n",
    "    - 4-Erroneous - QC has been performed: record appears erroneous\n",
    "    - 5-Changes - The record has been changed as a result of QC\n",
    "    - 6-Acceptable - QC has been performed: record seems inconsistent with other records\n",
    "    - 7-Off Position - There is a problem with the buoy position or mooring. Data may still be useful.\n",
    "    - 8-Reserved\n",
    "    - 9-Reserved - indicates missing elements\n",
    "- Datetime_y  - Date time in 3 hour intervals from df_hind\n",
    "- WD          - Wind Direction (deg from which wind is blowing (° True))\n",
    "- WS          - Wind Speed (m/s)\n",
    "- ETOT        - Total Variance of Total Spectrum (m^2)\n",
    "- TP          - Peak Spectral Period of Total Spectrum (sec)\n",
    "- VMD         - Vector Mean Direction of Total Spectrum (deg to which)\n",
    "- ETTSea      - Total Variance of Primary Partition (m^2)\n",
    "- TPSea       - Peak Spectral Period of Primary Partition (sec)\n",
    "- VMDSea      - Vector Mean Direction of Primary Partition (deg to which)\n",
    "- ETTSw       - Total Variance of Secondary Partition (m^2)\n",
    "- TPSw        - Peak Spectral Period of Secondary Partition (sec)\n",
    "- VMDSw       - Vector Mean Direction of Secondary Partition (deg to which)\n",
    "- MO1         - First Spectral Moment of Total Spectrum (m^2/s)\n",
    "- MO2         - Second Spectral Moment of Total Spectrum (m^2/s^2)\n",
    "- HS          - Significant Wave Height (m)\n",
    "- DMDIR       - Dominant Direction (deg to which)\n",
    "- ANGSPR      - Angular Spreading Function\n",
    "- INLINE      - In-Line Variance Ratio\n",
    " \n",
    "</details>"
   ]
  },
  {
   "cell_type": "markdown",
   "id": "92b06787-ad81-41b9-9424-0a16963c8b13",
   "metadata": {},
   "source": [
    "# Methodology"
   ]
  },
  {
   "cell_type": "markdown",
   "id": "46d648b0-68a2-4678-855f-a47c3f96041d",
   "metadata": {},
   "source": [
    "# PreProcessing for TimeSeries"
   ]
  },
  {
   "cell_type": "markdown",
   "id": "8314e39b-c9ba-4fc6-985e-c80e0c8aa03a",
   "metadata": {},
   "source": [
    "The goal is to create a daily forecast, first check to make sure there are no major gaps in data"
   ]
  },
  {
   "cell_type": "code",
   "execution_count": 4,
   "id": "aaf3192b-c9dd-4a2a-8897-27a3f175f31b",
   "metadata": {
    "scrolled": true
   },
   "outputs": [
    {
     "name": "stdout",
     "output_type": "stream",
     "text": [
      "<class 'pandas.core.frame.DataFrame'>\n",
      "RangeIndex: 199026 entries, 0 to 199025\n",
      "Data columns (total 38 columns):\n",
      " #   Column      Non-Null Count   Dtype  \n",
      "---  ------      --------------   -----  \n",
      " 0   STN_ID      199026 non-null  object \n",
      " 1   Datetime_x  199026 non-null  object \n",
      " 2   Q_FLAG      199026 non-null  int64  \n",
      " 3   LATITUDE    199026 non-null  float64\n",
      " 4   LONGITUDE   199026 non-null  float64\n",
      " 5   DEPTH       199026 non-null  float64\n",
      " 6   VWH$        199026 non-null  float64\n",
      " 7   VCMX        199026 non-null  float64\n",
      " 8   VTP$        199026 non-null  float64\n",
      " 9   WDIR        199026 non-null  float64\n",
      " 10  WSPD        199026 non-null  float64\n",
      " 11  GSPD        199026 non-null  float64\n",
      " 12  WDIR.1      199026 non-null  float64\n",
      " 13  WSPD.1      199026 non-null  float64\n",
      " 14  GSPD.1      199026 non-null  float64\n",
      " 15  ATMS        199026 non-null  float64\n",
      " 16  DRYT        199026 non-null  float64\n",
      " 17  SSTP        199026 non-null  float64\n",
      " 18  YEAR        199026 non-null  int64  \n",
      " 19  DATE        199026 non-null  object \n",
      " 20  WD          199026 non-null  float64\n",
      " 21  WS          199026 non-null  float64\n",
      " 22  ETOT        199026 non-null  float64\n",
      " 23  TP          199026 non-null  float64\n",
      " 24  VMD         199026 non-null  float64\n",
      " 25  ETTSea      199026 non-null  float64\n",
      " 26  TPSea       199026 non-null  float64\n",
      " 27  VMDSea      199026 non-null  float64\n",
      " 28  ETTSw       199026 non-null  float64\n",
      " 29  TPSw        199026 non-null  float64\n",
      " 30  VMDSw       199026 non-null  float64\n",
      " 31  MO1         199026 non-null  float64\n",
      " 32  MO2         199026 non-null  float64\n",
      " 33  HS          199026 non-null  float64\n",
      " 34  DMDIR       199026 non-null  float64\n",
      " 35  ANGSPR      199026 non-null  float64\n",
      " 36  INLINE      199026 non-null  float64\n",
      " 37  Datetime_y  199026 non-null  object \n",
      "dtypes: float64(32), int64(2), object(4)\n",
      "memory usage: 57.7+ MB\n"
     ]
    }
   ],
   "source": [
    "df.info()"
   ]
  },
  {
   "cell_type": "code",
   "execution_count": 5,
   "id": "0d42d742-7b10-49b0-bd9c-0b1eb9f4a554",
   "metadata": {},
   "outputs": [],
   "source": [
    "#convert Date columns to datetime\n",
    "df['Datetime_x']=pd.to_datetime(df['Datetime_x'])\n",
    "df['Datetime_y'] =pd.to_datetime(df['Datetime_y'])"
   ]
  },
  {
   "cell_type": "code",
   "execution_count": 6,
   "id": "db7c4a1d-82f6-4940-aa09-6ea1ed79e213",
   "metadata": {
    "scrolled": true
   },
   "outputs": [],
   "source": [
    "#rename columns for clarity \n",
    "df.rename(columns={'Datetime_x': 'Datetime_buoy', 'Datetime_y':'Datetime_hind'},inplace=True)"
   ]
  },
  {
   "cell_type": "code",
   "execution_count": 7,
   "id": "0a78ba8d-d02c-4083-8d0c-f9b31f80b7a3",
   "metadata": {
    "scrolled": true
   },
   "outputs": [
    {
     "data": {
      "text/html": [
       "<div>\n",
       "<style scoped>\n",
       "    .dataframe tbody tr th:only-of-type {\n",
       "        vertical-align: middle;\n",
       "    }\n",
       "\n",
       "    .dataframe tbody tr th {\n",
       "        vertical-align: top;\n",
       "    }\n",
       "\n",
       "    .dataframe thead th {\n",
       "        text-align: right;\n",
       "    }\n",
       "</style>\n",
       "<table border=\"1\" class=\"dataframe\">\n",
       "  <thead>\n",
       "    <tr style=\"text-align: right;\">\n",
       "      <th></th>\n",
       "      <th>Datetime_buoy</th>\n",
       "      <th>Datetime_hind</th>\n",
       "    </tr>\n",
       "  </thead>\n",
       "  <tbody>\n",
       "    <tr>\n",
       "      <th>0</th>\n",
       "      <td>1988-11-22 22:34:00</td>\n",
       "      <td>1988-11-23 00:00:00</td>\n",
       "    </tr>\n",
       "    <tr>\n",
       "      <th>1</th>\n",
       "      <td>1988-11-23 00:33:00</td>\n",
       "      <td>1988-11-23 00:00:00</td>\n",
       "    </tr>\n",
       "    <tr>\n",
       "      <th>2</th>\n",
       "      <td>1988-11-23 01:34:00</td>\n",
       "      <td>1988-11-23 00:00:00</td>\n",
       "    </tr>\n",
       "    <tr>\n",
       "      <th>3</th>\n",
       "      <td>1988-11-23 02:34:00</td>\n",
       "      <td>1988-11-23 00:00:00</td>\n",
       "    </tr>\n",
       "    <tr>\n",
       "      <th>4</th>\n",
       "      <td>1988-11-23 04:34:00</td>\n",
       "      <td>1988-11-23 00:00:00</td>\n",
       "    </tr>\n",
       "    <tr>\n",
       "      <th>...</th>\n",
       "      <td>...</td>\n",
       "      <td>...</td>\n",
       "    </tr>\n",
       "    <tr>\n",
       "      <th>199021</th>\n",
       "      <td>2016-01-01 16:38:00</td>\n",
       "      <td>2016-01-01 15:00:00</td>\n",
       "    </tr>\n",
       "    <tr>\n",
       "      <th>199022</th>\n",
       "      <td>2016-01-01 17:38:00</td>\n",
       "      <td>2016-01-01 15:00:00</td>\n",
       "    </tr>\n",
       "    <tr>\n",
       "      <th>199023</th>\n",
       "      <td>2016-01-01 18:38:00</td>\n",
       "      <td>2016-01-01 18:00:00</td>\n",
       "    </tr>\n",
       "    <tr>\n",
       "      <th>199024</th>\n",
       "      <td>2016-01-01 19:38:00</td>\n",
       "      <td>2016-01-01 18:00:00</td>\n",
       "    </tr>\n",
       "    <tr>\n",
       "      <th>199025</th>\n",
       "      <td>2016-01-01 20:38:00</td>\n",
       "      <td>2016-01-01 18:00:00</td>\n",
       "    </tr>\n",
       "  </tbody>\n",
       "</table>\n",
       "<p>199026 rows × 2 columns</p>\n",
       "</div>"
      ],
      "text/plain": [
       "             Datetime_buoy       Datetime_hind\n",
       "0      1988-11-22 22:34:00 1988-11-23 00:00:00\n",
       "1      1988-11-23 00:33:00 1988-11-23 00:00:00\n",
       "2      1988-11-23 01:34:00 1988-11-23 00:00:00\n",
       "3      1988-11-23 02:34:00 1988-11-23 00:00:00\n",
       "4      1988-11-23 04:34:00 1988-11-23 00:00:00\n",
       "...                    ...                 ...\n",
       "199021 2016-01-01 16:38:00 2016-01-01 15:00:00\n",
       "199022 2016-01-01 17:38:00 2016-01-01 15:00:00\n",
       "199023 2016-01-01 18:38:00 2016-01-01 18:00:00\n",
       "199024 2016-01-01 19:38:00 2016-01-01 18:00:00\n",
       "199025 2016-01-01 20:38:00 2016-01-01 18:00:00\n",
       "\n",
       "[199026 rows x 2 columns]"
      ]
     },
     "execution_count": 7,
     "metadata": {},
     "output_type": "execute_result"
    }
   ],
   "source": [
    "df[['Datetime_buoy','Datetime_hind']]"
   ]
  },
  {
   "cell_type": "code",
   "execution_count": 8,
   "id": "80155be2-eb0d-4402-a1ea-089c4cfcdbec",
   "metadata": {},
   "outputs": [],
   "source": [
    "#check for gaps data should already be in sequential order\n",
    "\n",
    "time_diff_buoy = df['Datetime_buoy'].diff() #calculates difference bewteen timestamps\n",
    "# set expected interval\n",
    "expected_interval = pd.to_timedelta(1, unit='H')\n",
    "#indentify gaps -> create seperate data frame based on boolean condition\n",
    "gaps_buoy = df[time_diff_buoy>expected_interval]\n",
    "\n"
   ]
  },
  {
   "cell_type": "code",
   "execution_count": 9,
   "id": "e89b7fcb-3150-452e-a5d3-e1aa683a04f2",
   "metadata": {},
   "outputs": [
    {
     "data": {
      "text/plain": [
       "(8151, 38)"
      ]
     },
     "execution_count": 9,
     "metadata": {},
     "output_type": "execute_result"
    }
   ],
   "source": [
    "gaps_buoy.shape"
   ]
  },
  {
   "cell_type": "markdown",
   "id": "1e9d0d51-1dac-4ba5-98b3-0b5faa4b6fbc",
   "metadata": {},
   "source": [
    "There are gaps in the datetime of buoy hourly data. This makes up about 24% of data. Investigate where gaps are and how large. "
   ]
  },
  {
   "cell_type": "code",
   "execution_count": 10,
   "id": "d6a7eef4-724c-4b61-906c-4da01069fa12",
   "metadata": {},
   "outputs": [
    {
     "data": {
      "text/plain": [
       "1        1988-11-23 00:33:00\n",
       "2        1988-11-23 01:34:00\n",
       "4        1988-11-23 04:34:00\n",
       "20       1988-11-23 20:34:00\n",
       "24       1988-11-24 00:34:00\n",
       "                 ...        \n",
       "193154   2015-05-01 23:38:00\n",
       "193155   2015-05-02 02:38:00\n",
       "193158   2015-05-02 07:38:00\n",
       "193160   2015-05-02 10:38:00\n",
       "193224   2015-05-05 03:38:00\n",
       "Name: Datetime_buoy, Length: 8151, dtype: datetime64[ns]"
      ]
     },
     "execution_count": 10,
     "metadata": {},
     "output_type": "execute_result"
    }
   ],
   "source": [
    "gaps_buoy['Datetime_buoy']"
   ]
  },
  {
   "cell_type": "code",
   "execution_count": 11,
   "id": "0f91483c-277b-496c-947a-c8750e34b2fd",
   "metadata": {},
   "outputs": [
    {
     "name": "stdout",
     "output_type": "stream",
     "text": [
      "Duration counts of the gaps\n",
      "Datetime_buoy\n",
      "0 days 02:00:00     4801\n",
      "0 days 03:00:00     1060\n",
      "0 days 01:01:00      912\n",
      "0 days 04:00:00      404\n",
      "0 days 05:00:00      201\n",
      "                    ... \n",
      "4 days 11:00:00        1\n",
      "14 days 16:00:00       1\n",
      "0 days 01:27:00        1\n",
      "0 days 02:33:00        1\n",
      "95 days 06:00:00       1\n",
      "Name: count, Length: 144, dtype: int64\n"
     ]
    }
   ],
   "source": [
    "#find duration of gaps\n",
    "gap_durations = time_diff_buoy[time_diff_buoy > expected_interval]\n",
    "duration_vals_gaps = gap_durations.value_counts() \n",
    "print('Duration counts of the gaps')\n",
    "print(duration_vals_gaps)"
   ]
  },
  {
   "cell_type": "code",
   "execution_count": 12,
   "id": "bd0a3dca-7c84-4780-8c22-0a3bafdfa05b",
   "metadata": {},
   "outputs": [
    {
     "name": "stdout",
     "output_type": "stream",
     "text": [
      "Number of Gaps Greater Than 30 Days: 8\n"
     ]
    }
   ],
   "source": [
    "# Set the threshold for gap duration to 30 days\n",
    "threshold_duration = pd.to_timedelta(30, unit='D')\n",
    "# Count the number of gap durations greater than 30 days\n",
    "num_long_gaps = (gap_durations > threshold_duration).sum()\n",
    "\n",
    "# Print or display the result\n",
    "print(\"Number of Gaps Greater Than 30 Days:\", num_long_gaps)"
   ]
  },
  {
   "cell_type": "code",
   "execution_count": 13,
   "id": "d90ee678-cf40-4b36-b6a4-57b9a5ca4aa8",
   "metadata": {},
   "outputs": [
    {
     "name": "stdout",
     "output_type": "stream",
     "text": [
      "Gap Durations Greater Than 30 Days:\n",
      "3615      79 days 11:01:00\n",
      "47851     50 days 16:00:00\n",
      "92910    129 days 02:00:00\n",
      "126754    43 days 12:00:00\n",
      "131586    33 days 17:00:00\n",
      "161552    30 days 05:00:00\n",
      "173895    31 days 18:00:00\n",
      "184402    95 days 06:00:00\n",
      "Name: Datetime_buoy, dtype: timedelta64[ns]\n"
     ]
    }
   ],
   "source": [
    "long_gaps = gap_durations[gap_durations > threshold_duration]\n",
    "\n",
    "# Print or display the durations of gaps greater than 30 days\n",
    "print(\"Gap Durations Greater Than 30 Days:\")\n",
    "print(long_gaps)"
   ]
  },
  {
   "cell_type": "code",
   "execution_count": 14,
   "id": "08989a60-db22-49f9-b17d-d0f50b911d11",
   "metadata": {},
   "outputs": [
    {
     "name": "stdout",
     "output_type": "stream",
     "text": [
      "max duration of gap: 129 days 02:00:00\n"
     ]
    }
   ],
   "source": [
    "#max gap duration\n",
    "max_gap_duration = gap_durations.max()\n",
    "print('max duration of gap:', max_gap_duration)"
   ]
  },
  {
   "cell_type": "code",
   "execution_count": 15,
   "id": "9c0e5029-79a7-4915-8ff1-eefe31281995",
   "metadata": {},
   "outputs": [
    {
     "name": "stdout",
     "output_type": "stream",
     "text": [
      "Maximum Gap Duration:\n",
      "129 days 02:00:00\n",
      "Rows corresponding to the exact 129-day gap:\n",
      "       STN_ID       Datetime_buoy  Q_FLAG  LATITUDE  LONGITUDE  DEPTH  VWH$  \\\n",
      "92909  C46206 2001-09-29 22:45:00       1     48.83      126.0   75.0   0.0   \n",
      "92910  C46206 2002-02-06 00:45:00       7     48.83      126.0   75.0   0.0   \n",
      "92911  C46206 2002-02-06 01:45:00       7     48.83      126.0   75.0   0.0   \n",
      "\n",
      "       VCMX  VTP$   WDIR  ...  ETTSw    TPSw  VMDSw    MO1    MO2     HS  \\\n",
      "92909   0.0   2.9  173.0  ...  0.252  10.182   59.6  0.315  0.352  2.361   \n",
      "92910   0.0   3.3  221.0  ...  0.276  11.515   51.6  1.052  1.049  4.452   \n",
      "92911   0.0  36.6  234.0  ...  0.276  11.515   51.6  1.052  1.049  4.452   \n",
      "\n",
      "       DMDIR  ANGSPR  INLINE       Datetime_hind  \n",
      "92909   52.2  0.7088  0.6105 2001-09-29 21:00:00  \n",
      "92910    5.5  0.7699  0.6705 2002-02-06 00:00:00  \n",
      "92911    5.5  0.7699  0.6705 2002-02-06 00:00:00  \n",
      "\n",
      "[3 rows x 38 columns]\n"
     ]
    }
   ],
   "source": [
    "# Find the index of the maximum gap duration\n",
    "max_gap_index = gap_durations[gap_durations == max_gap_duration].index[0]\n",
    "\n",
    "# Extract rows corresponding to the exact 129-day gap\n",
    "exact_gap_rows = df.loc[max_gap_index - 1:max_gap_index + 1]\n",
    "\n",
    "# Print or visualize the information\n",
    "print(\"Maximum Gap Duration:\")\n",
    "print(max_gap_duration)\n",
    "print(\"Rows corresponding to the exact 129-day gap:\")\n",
    "print(exact_gap_rows)"
   ]
  },
  {
   "cell_type": "code",
   "execution_count": 16,
   "id": "619deda4-ae27-43aa-b896-ad6815eb95b5",
   "metadata": {},
   "outputs": [
    {
     "name": "stdout",
     "output_type": "stream",
     "text": [
      "Minimum Datetime: 1988-11-22 22:34:00\n",
      "Maximum Datetime: 2016-01-01 20:38:00\n"
     ]
    }
   ],
   "source": [
    "#range of datetime for datetime_buoy\n",
    "min_datetime = df['Datetime_buoy'].min()\n",
    "max_datetime = df['Datetime_buoy'].max()\n",
    "\n",
    "print(\"Minimum Datetime:\", min_datetime)\n",
    "print(\"Maximum Datetime:\", max_datetime)"
   ]
  },
  {
   "cell_type": "markdown",
   "id": "605b20c8-e918-4d58-80bd-eff1c908ae53",
   "metadata": {},
   "source": [
    "### Approach to Handling Gaps in Datetime\n",
    "\n",
    "Since forecasting will be on the granularity of a 'Day', a new dataframe for time series will be constructed with the average values for each feature for each day. The missing days will then be imputed.  **HOW**?????"
   ]
  },
  {
   "cell_type": "markdown",
   "id": "ffb563f7-100c-4489-aed6-0844ad5e9863",
   "metadata": {},
   "source": [
    "**STEP 1** Create new timeseries dataframe by resampling to day granularity"
   ]
  },
  {
   "cell_type": "code",
   "execution_count": 17,
   "id": "9437539b-2b90-4d4c-ba14-2467c298026d",
   "metadata": {},
   "outputs": [],
   "source": [
    "#reset index to Datetime_buoy\n",
    "df.set_index('Datetime_buoy', inplace=True)\n"
   ]
  },
  {
   "cell_type": "code",
   "execution_count": 18,
   "id": "6d36ff4e-531b-46a6-a870-0780a9992289",
   "metadata": {},
   "outputs": [],
   "source": [
    "cols_to_drop = ['STN_ID','DATE','Q_FLAG','DATE','Datetime_hind']\n",
    "df_daily = df.drop(columns=cols_to_drop).copy()"
   ]
  },
  {
   "cell_type": "code",
   "execution_count": 21,
   "id": "3cd68432-e854-4da6-bf3d-0faf5b5c4109",
   "metadata": {
    "scrolled": true
   },
   "outputs": [
    {
     "name": "stdout",
     "output_type": "stream",
     "text": [
      "<class 'pandas.core.frame.DataFrame'>\n",
      "DatetimeIndex: 199026 entries, 1988-11-22 22:34:00 to 2016-01-01 20:38:00\n",
      "Data columns (total 33 columns):\n",
      " #   Column     Non-Null Count   Dtype  \n",
      "---  ------     --------------   -----  \n",
      " 0   LATITUDE   199026 non-null  float64\n",
      " 1   LONGITUDE  199026 non-null  float64\n",
      " 2   DEPTH      199026 non-null  float64\n",
      " 3   VWH$       199026 non-null  float64\n",
      " 4   VCMX       199026 non-null  float64\n",
      " 5   VTP$       199026 non-null  float64\n",
      " 6   WDIR       199026 non-null  float64\n",
      " 7   WSPD       199026 non-null  float64\n",
      " 8   GSPD       199026 non-null  float64\n",
      " 9   WDIR.1     199026 non-null  float64\n",
      " 10  WSPD.1     199026 non-null  float64\n",
      " 11  GSPD.1     199026 non-null  float64\n",
      " 12  ATMS       199026 non-null  float64\n",
      " 13  DRYT       199026 non-null  float64\n",
      " 14  SSTP       199026 non-null  float64\n",
      " 15  YEAR       199026 non-null  int64  \n",
      " 16  WD         199026 non-null  float64\n",
      " 17  WS         199026 non-null  float64\n",
      " 18  ETOT       199026 non-null  float64\n",
      " 19  TP         199026 non-null  float64\n",
      " 20  VMD        199026 non-null  float64\n",
      " 21  ETTSea     199026 non-null  float64\n",
      " 22  TPSea      199026 non-null  float64\n",
      " 23  VMDSea     199026 non-null  float64\n",
      " 24  ETTSw      199026 non-null  float64\n",
      " 25  TPSw       199026 non-null  float64\n",
      " 26  VMDSw      199026 non-null  float64\n",
      " 27  MO1        199026 non-null  float64\n",
      " 28  MO2        199026 non-null  float64\n",
      " 29  HS         199026 non-null  float64\n",
      " 30  DMDIR      199026 non-null  float64\n",
      " 31  ANGSPR     199026 non-null  float64\n",
      " 32  INLINE     199026 non-null  float64\n",
      "dtypes: float64(32), int64(1)\n",
      "memory usage: 51.6 MB\n"
     ]
    }
   ],
   "source": [
    "df_daily.info()"
   ]
  },
  {
   "cell_type": "code",
   "execution_count": 22,
   "id": "cbdf2b3c-b24e-4958-b8b2-2fc611a23ef2",
   "metadata": {},
   "outputs": [],
   "source": [
    "#resample entire data frame for 'D' and use .mean()\n",
    "df_daily = df_daily.resample('D').mean()"
   ]
  },
  {
   "cell_type": "code",
   "execution_count": 23,
   "id": "bf522cb9-b8d5-4a1b-aa26-0d0c0ecd9ceb",
   "metadata": {},
   "outputs": [
    {
     "data": {
      "text/html": [
       "<div>\n",
       "<style scoped>\n",
       "    .dataframe tbody tr th:only-of-type {\n",
       "        vertical-align: middle;\n",
       "    }\n",
       "\n",
       "    .dataframe tbody tr th {\n",
       "        vertical-align: top;\n",
       "    }\n",
       "\n",
       "    .dataframe thead th {\n",
       "        text-align: right;\n",
       "    }\n",
       "</style>\n",
       "<table border=\"1\" class=\"dataframe\">\n",
       "  <thead>\n",
       "    <tr style=\"text-align: right;\">\n",
       "      <th></th>\n",
       "      <th>LATITUDE</th>\n",
       "      <th>LONGITUDE</th>\n",
       "      <th>DEPTH</th>\n",
       "      <th>VWH$</th>\n",
       "      <th>VCMX</th>\n",
       "      <th>VTP$</th>\n",
       "      <th>WDIR</th>\n",
       "      <th>WSPD</th>\n",
       "      <th>GSPD</th>\n",
       "      <th>WDIR.1</th>\n",
       "      <th>...</th>\n",
       "      <th>VMDSea</th>\n",
       "      <th>ETTSw</th>\n",
       "      <th>TPSw</th>\n",
       "      <th>VMDSw</th>\n",
       "      <th>MO1</th>\n",
       "      <th>MO2</th>\n",
       "      <th>HS</th>\n",
       "      <th>DMDIR</th>\n",
       "      <th>ANGSPR</th>\n",
       "      <th>INLINE</th>\n",
       "    </tr>\n",
       "    <tr>\n",
       "      <th>Datetime_buoy</th>\n",
       "      <th></th>\n",
       "      <th></th>\n",
       "      <th></th>\n",
       "      <th></th>\n",
       "      <th></th>\n",
       "      <th></th>\n",
       "      <th></th>\n",
       "      <th></th>\n",
       "      <th></th>\n",
       "      <th></th>\n",
       "      <th></th>\n",
       "      <th></th>\n",
       "      <th></th>\n",
       "      <th></th>\n",
       "      <th></th>\n",
       "      <th></th>\n",
       "      <th></th>\n",
       "      <th></th>\n",
       "      <th></th>\n",
       "      <th></th>\n",
       "      <th></th>\n",
       "    </tr>\n",
       "  </thead>\n",
       "  <tbody>\n",
       "    <tr>\n",
       "      <th>1988-11-22</th>\n",
       "      <td>48.83</td>\n",
       "      <td>126.0</td>\n",
       "      <td>73.0</td>\n",
       "      <td>5.420000</td>\n",
       "      <td>8.400000</td>\n",
       "      <td>11.640000</td>\n",
       "      <td>234.000000</td>\n",
       "      <td>11.800000</td>\n",
       "      <td>15.600000</td>\n",
       "      <td>225.000000</td>\n",
       "      <td>...</td>\n",
       "      <td>32.200000</td>\n",
       "      <td>0.844000</td>\n",
       "      <td>12.229000</td>\n",
       "      <td>63.700000</td>\n",
       "      <td>0.682000</td>\n",
       "      <td>0.564000</td>\n",
       "      <td>3.981000</td>\n",
       "      <td>67.000000</td>\n",
       "      <td>0.807500</td>\n",
       "      <td>0.715300</td>\n",
       "    </tr>\n",
       "    <tr>\n",
       "      <th>1988-11-23</th>\n",
       "      <td>48.83</td>\n",
       "      <td>126.0</td>\n",
       "      <td>73.0</td>\n",
       "      <td>6.657391</td>\n",
       "      <td>11.591304</td>\n",
       "      <td>14.960000</td>\n",
       "      <td>265.695652</td>\n",
       "      <td>7.491304</td>\n",
       "      <td>10.630435</td>\n",
       "      <td>256.086957</td>\n",
       "      <td>...</td>\n",
       "      <td>21.869565</td>\n",
       "      <td>0.661391</td>\n",
       "      <td>13.783913</td>\n",
       "      <td>76.808696</td>\n",
       "      <td>1.459913</td>\n",
       "      <td>1.249043</td>\n",
       "      <td>5.604522</td>\n",
       "      <td>52.469565</td>\n",
       "      <td>0.771422</td>\n",
       "      <td>0.673013</td>\n",
       "    </tr>\n",
       "    <tr>\n",
       "      <th>1988-11-24</th>\n",
       "      <td>48.83</td>\n",
       "      <td>126.0</td>\n",
       "      <td>73.0</td>\n",
       "      <td>4.434286</td>\n",
       "      <td>7.861905</td>\n",
       "      <td>15.097143</td>\n",
       "      <td>187.095238</td>\n",
       "      <td>6.809524</td>\n",
       "      <td>9.252381</td>\n",
       "      <td>177.619048</td>\n",
       "      <td>...</td>\n",
       "      <td>68.300000</td>\n",
       "      <td>1.774143</td>\n",
       "      <td>14.318143</td>\n",
       "      <td>75.528571</td>\n",
       "      <td>2.440857</td>\n",
       "      <td>1.881714</td>\n",
       "      <td>7.755571</td>\n",
       "      <td>75.142857</td>\n",
       "      <td>0.850457</td>\n",
       "      <td>0.765200</td>\n",
       "    </tr>\n",
       "    <tr>\n",
       "      <th>1988-11-25</th>\n",
       "      <td>48.83</td>\n",
       "      <td>126.0</td>\n",
       "      <td>73.0</td>\n",
       "      <td>3.676087</td>\n",
       "      <td>6.047826</td>\n",
       "      <td>13.973913</td>\n",
       "      <td>200.956522</td>\n",
       "      <td>6.026087</td>\n",
       "      <td>8.152174</td>\n",
       "      <td>191.739130</td>\n",
       "      <td>...</td>\n",
       "      <td>44.073913</td>\n",
       "      <td>1.157522</td>\n",
       "      <td>14.076913</td>\n",
       "      <td>88.278261</td>\n",
       "      <td>0.799304</td>\n",
       "      <td>0.618565</td>\n",
       "      <td>4.529000</td>\n",
       "      <td>87.786957</td>\n",
       "      <td>0.859587</td>\n",
       "      <td>0.789322</td>\n",
       "    </tr>\n",
       "    <tr>\n",
       "      <th>1988-11-26</th>\n",
       "      <td>48.83</td>\n",
       "      <td>126.0</td>\n",
       "      <td>73.0</td>\n",
       "      <td>3.114091</td>\n",
       "      <td>5.440909</td>\n",
       "      <td>11.930909</td>\n",
       "      <td>236.500000</td>\n",
       "      <td>5.613636</td>\n",
       "      <td>7.395455</td>\n",
       "      <td>227.227273</td>\n",
       "      <td>...</td>\n",
       "      <td>79.350000</td>\n",
       "      <td>0.711591</td>\n",
       "      <td>13.506682</td>\n",
       "      <td>76.372727</td>\n",
       "      <td>0.769818</td>\n",
       "      <td>0.690773</td>\n",
       "      <td>4.112773</td>\n",
       "      <td>89.922727</td>\n",
       "      <td>0.819845</td>\n",
       "      <td>0.757150</td>\n",
       "    </tr>\n",
       "  </tbody>\n",
       "</table>\n",
       "<p>5 rows × 33 columns</p>\n",
       "</div>"
      ],
      "text/plain": [
       "               LATITUDE  LONGITUDE  DEPTH      VWH$       VCMX       VTP$  \\\n",
       "Datetime_buoy                                                               \n",
       "1988-11-22        48.83      126.0   73.0  5.420000   8.400000  11.640000   \n",
       "1988-11-23        48.83      126.0   73.0  6.657391  11.591304  14.960000   \n",
       "1988-11-24        48.83      126.0   73.0  4.434286   7.861905  15.097143   \n",
       "1988-11-25        48.83      126.0   73.0  3.676087   6.047826  13.973913   \n",
       "1988-11-26        48.83      126.0   73.0  3.114091   5.440909  11.930909   \n",
       "\n",
       "                     WDIR       WSPD       GSPD      WDIR.1  ...     VMDSea  \\\n",
       "Datetime_buoy                                                ...              \n",
       "1988-11-22     234.000000  11.800000  15.600000  225.000000  ...  32.200000   \n",
       "1988-11-23     265.695652   7.491304  10.630435  256.086957  ...  21.869565   \n",
       "1988-11-24     187.095238   6.809524   9.252381  177.619048  ...  68.300000   \n",
       "1988-11-25     200.956522   6.026087   8.152174  191.739130  ...  44.073913   \n",
       "1988-11-26     236.500000   5.613636   7.395455  227.227273  ...  79.350000   \n",
       "\n",
       "                  ETTSw       TPSw      VMDSw       MO1       MO2        HS  \\\n",
       "Datetime_buoy                                                                 \n",
       "1988-11-22     0.844000  12.229000  63.700000  0.682000  0.564000  3.981000   \n",
       "1988-11-23     0.661391  13.783913  76.808696  1.459913  1.249043  5.604522   \n",
       "1988-11-24     1.774143  14.318143  75.528571  2.440857  1.881714  7.755571   \n",
       "1988-11-25     1.157522  14.076913  88.278261  0.799304  0.618565  4.529000   \n",
       "1988-11-26     0.711591  13.506682  76.372727  0.769818  0.690773  4.112773   \n",
       "\n",
       "                   DMDIR    ANGSPR    INLINE  \n",
       "Datetime_buoy                                 \n",
       "1988-11-22     67.000000  0.807500  0.715300  \n",
       "1988-11-23     52.469565  0.771422  0.673013  \n",
       "1988-11-24     75.142857  0.850457  0.765200  \n",
       "1988-11-25     87.786957  0.859587  0.789322  \n",
       "1988-11-26     89.922727  0.819845  0.757150  \n",
       "\n",
       "[5 rows x 33 columns]"
      ]
     },
     "execution_count": 23,
     "metadata": {},
     "output_type": "execute_result"
    }
   ],
   "source": [
    "df_daily.head()"
   ]
  },
  {
   "cell_type": "code",
   "execution_count": 24,
   "id": "56729680-37b4-44c9-ac31-8c5aec4f30ce",
   "metadata": {},
   "outputs": [
    {
     "data": {
      "text/plain": [
       "LATITUDE     918\n",
       "LONGITUDE    918\n",
       "DEPTH        918\n",
       "VWH$         918\n",
       "VCMX         918\n",
       "VTP$         918\n",
       "WDIR         918\n",
       "WSPD         918\n",
       "GSPD         918\n",
       "WDIR.1       918\n",
       "WSPD.1       918\n",
       "GSPD.1       918\n",
       "ATMS         918\n",
       "DRYT         918\n",
       "SSTP         918\n",
       "YEAR         918\n",
       "WD           918\n",
       "WS           918\n",
       "ETOT         918\n",
       "TP           918\n",
       "VMD          918\n",
       "ETTSea       918\n",
       "TPSea        918\n",
       "VMDSea       918\n",
       "ETTSw        918\n",
       "TPSw         918\n",
       "VMDSw        918\n",
       "MO1          918\n",
       "MO2          918\n",
       "HS           918\n",
       "DMDIR        918\n",
       "ANGSPR       918\n",
       "INLINE       918\n",
       "dtype: int64"
      ]
     },
     "execution_count": 24,
     "metadata": {},
     "output_type": "execute_result"
    }
   ],
   "source": [
    "df_daily.isnull().sum()"
   ]
  },
  {
   "cell_type": "markdown",
   "id": "aa180384-1d89-41ec-b2a9-9f8c9240765a",
   "metadata": {},
   "source": [
    "**STEP 2** Impute missing values"
   ]
  },
  {
   "cell_type": "markdown",
   "id": "2db60905-8b2e-4993-9f2c-7e956fd083ba",
   "metadata": {},
   "source": [
    "For ARIMA and SARIMA model , just ETOT will be used for forecasting. Past predictions of itself. A copy of daily resampled dataframe will be made and values will be imputed based on corresponding day means from other years. The approach to imputing values may be revisited. For now this will be tried. "
   ]
  },
  {
   "cell_type": "code",
   "execution_count": 28,
   "id": "c7504b7e-6b2c-4f23-90fd-58d853f41d72",
   "metadata": {},
   "outputs": [],
   "source": [
    "df_daily_imputed = df_daily.copy()"
   ]
  },
  {
   "cell_type": "code",
   "execution_count": 31,
   "id": "4e348b4c-5fc9-4500-baf6-e2237c883577",
   "metadata": {},
   "outputs": [],
   "source": [
    "features = [\n",
    "    'LATITUDE', 'LONGITUDE', 'DEPTH', 'VWH$', 'VCMX', 'VTP$', 'WDIR', 'WSPD', 'GSPD',\n",
    "    'WDIR.1', 'WSPD.1', 'GSPD.1', 'ATMS', 'DRYT', 'SSTP', 'YEAR', 'WD', 'WS', 'ETOT',\n",
    "    'TP', 'VMD', 'ETTSea', 'TPSea', 'VMDSea', 'ETTSw', 'TPSw', 'VMDSw', 'MO1', 'MO2',\n",
    "    'HS', 'DMDIR', 'ANGSPR', 'INLINE'\n",
    "]\n",
    "\n",
    "#create for loop to iterate through each feature and replace missing days\n",
    "#.dayofyear used to find corresponding days from other years\n",
    "\n",
    "#outer loop, iterature through the features\n",
    "for feature in features:\n",
    "    missing_days = df_daily_imputed[df_daily_imputed[feature].isnull()].index #get indicies of missing days\n",
    "    #inner loop,for each feature iterate over the days with missing values \n",
    "    for day in missing_days:\n",
    "        #find corresponding days in other years by using index.month, index.day (ensure day is from correct month)\n",
    "        corresponding_day = df_daily_imputed.index[\n",
    "            (df_daily_imputed.index.month==day.month) & #month of current day matches month of timestamp\n",
    "            (df_daily_imputed.index.day==day.day) #day of month matches\n",
    "        ] \n",
    "        #impute missing values with mean of corresponding days\n",
    "        df_daily_imputed.loc[day,feature] = df_daily_imputed.loc[corresponding_day,feature].mean()\n",
    "    "
   ]
  },
  {
   "cell_type": "code",
   "execution_count": 32,
   "id": "89339779-44d2-43c2-8cb1-7b992b1afa3d",
   "metadata": {
    "scrolled": true
   },
   "outputs": [
    {
     "data": {
      "text/plain": [
       "LATITUDE     0\n",
       "LONGITUDE    0\n",
       "DEPTH        0\n",
       "VWH$         0\n",
       "VCMX         0\n",
       "VTP$         0\n",
       "WDIR         0\n",
       "WSPD         0\n",
       "GSPD         0\n",
       "WDIR.1       0\n",
       "WSPD.1       0\n",
       "GSPD.1       0\n",
       "ATMS         0\n",
       "DRYT         0\n",
       "SSTP         0\n",
       "YEAR         0\n",
       "WD           0\n",
       "WS           0\n",
       "ETOT         0\n",
       "TP           0\n",
       "VMD          0\n",
       "ETTSea       0\n",
       "TPSea        0\n",
       "VMDSea       0\n",
       "ETTSw        0\n",
       "TPSw         0\n",
       "VMDSw        0\n",
       "MO1          0\n",
       "MO2          0\n",
       "HS           0\n",
       "DMDIR        0\n",
       "ANGSPR       0\n",
       "INLINE       0\n",
       "dtype: int64"
      ]
     },
     "execution_count": 32,
     "metadata": {},
     "output_type": "execute_result"
    }
   ],
   "source": [
    "df_daily_imputed.isnull().sum()"
   ]
  },
  {
   "cell_type": "markdown",
   "id": "6cbcdaf5-c842-42cb-a5ac-cfc1434451f3",
   "metadata": {},
   "source": [
    "Values have been imputed. "
   ]
  },
  {
   "cell_type": "code",
   "execution_count": 33,
   "id": "eedfadd9-4ba3-4e8e-b657-03dea127d2d0",
   "metadata": {},
   "outputs": [
    {
     "data": {
      "text/plain": [
       "(9902, 33)"
      ]
     },
     "execution_count": 33,
     "metadata": {},
     "output_type": "execute_result"
    }
   ],
   "source": [
    "df_daily_imputed.shape"
   ]
  },
  {
   "cell_type": "code",
   "execution_count": 34,
   "id": "7bd0a5f3-6402-47c7-8d09-e2461eb8cef6",
   "metadata": {},
   "outputs": [
    {
     "name": "stdout",
     "output_type": "stream",
     "text": [
      "Minimum Date: 1988-11-22 00:00:00\n",
      "Maximum Date: 2016-01-01 00:00:00\n"
     ]
    }
   ],
   "source": [
    "min_date = df_daily_imputed.index.min()\n",
    "max_date = df_daily_imputed.index.max()\n",
    "\n",
    "print(\"Minimum Date:\", min_date)\n",
    "print(\"Maximum Date:\", max_date)"
   ]
  },
  {
   "cell_type": "markdown",
   "id": "7cad747d-8071-4981-b1ea-9a0f6132063c",
   "metadata": {},
   "source": [
    "# PreProcessing and Modelling"
   ]
  },
  {
   "cell_type": "markdown",
   "id": "39d005eb-47e2-4179-83bc-c30cbfc99c6b",
   "metadata": {},
   "source": [
    "Now that values have been imputed the data will be split into a train test split based on datetime. \n",
    "The data will be split from 1988-2008 leaving 8 years for testing and 20 years for training. "
   ]
  },
  {
   "cell_type": "markdown",
   "id": "c1eb187f-c8d4-418e-a9cb-4efd95c9df38",
   "metadata": {},
   "source": [
    "**Train Test Split**"
   ]
  },
  {
   "cell_type": "code",
   "execution_count": 36,
   "id": "b20a89eb-ea04-47db-9797-de76d783b920",
   "metadata": {},
   "outputs": [],
   "source": [
    "#train test split\n",
    "cut_off_date = '2009-01-01'\n",
    "\n",
    "train_set = df_daily_imputed[df_daily_imputed.index < cut_off_date]\n",
    "test_set = df_daily_imputed[df_daily_imputed.index >= cut_off_date]"
   ]
  },
  {
   "cell_type": "code",
   "execution_count": 37,
   "id": "8890085b-0c4a-48f2-be96-8057201accaa",
   "metadata": {},
   "outputs": [
    {
     "name": "stdout",
     "output_type": "stream",
     "text": [
      "2008-12-31 00:00:00\n"
     ]
    }
   ],
   "source": [
    "max_train_date =train_set.index.max()\n",
    "print(max_train_date)"
   ]
  },
  {
   "cell_type": "markdown",
   "id": "1a5137a3-6f86-4549-a9ca-09811e14ed99",
   "metadata": {},
   "source": [
    "## First Model: ARMA or ARIMA\n",
    "The target will be decomposed and assessed as to weather variable is stationary or if there are trends present"
   ]
  },
  {
   "cell_type": "markdown",
   "id": "7ac304ae-f968-4742-acbc-cc26a07fc7d3",
   "metadata": {},
   "source": [
    "**Decomposition**\n",
    "\n",
    "Decompose target into components."
   ]
  },
  {
   "cell_type": "code",
   "execution_count": 39,
   "id": "f0cbc1d1-ffce-435c-83f9-849630df7c93",
   "metadata": {},
   "outputs": [],
   "source": [
    "#create dataframe with datetime index and target\n",
    "etot_data = train_set[['ETOT']].copy()"
   ]
  },
  {
   "cell_type": "code",
   "execution_count": 41,
   "id": "06d43caf-0cf1-46e9-bdcf-9f152ec419df",
   "metadata": {
    "scrolled": true
   },
   "outputs": [
    {
     "data": {
      "text/plain": [
       "<Axes: xlabel='Datetime_buoy'>"
      ]
     },
     "execution_count": 41,
     "metadata": {},
     "output_type": "execute_result"
    },
    {
     "data": {
      "image/png": "[encoded data removed]",
      "text/plain": [
       "<Figure size 640x480 with 1 Axes>"
      ]
     },
     "metadata": {},
     "output_type": "display_data"
    }
   ],
   "source": [
    "#plot etot\n",
    "etot_data.plot()"
   ]
  },
  {
   "cell_type": "markdown",
   "id": "0ec512bc-d9ca-4b9d-b64e-d8fdaa59a6be",
   "metadata": {},
   "source": [
    "Appears to be reoccuring spikes in ETOT, but no overall trends. "
   ]
  },
  {
   "cell_type": "code",
   "execution_count": 43,
   "id": "99afab35-09d1-4877-8bd3-aa6fdac8064a",
   "metadata": {
    "scrolled": true
   },
   "outputs": [
    {
     "data": {
      "image/png": "[encoded data removed]",
      "text/plain": [
       "<Figure size 640x480 with 4 Axes>"
      ]
     },
     "execution_count": 43,
     "metadata": {},
     "output_type": "execute_result"
    },
    {
     "data": {
      "image/png": "[encoded data removed]",
      "text/plain": [
       "<Figure size 640x480 with 4 Axes>"
      ]
     },
     "metadata": {},
     "output_type": "display_data"
    }
   ],
   "source": [
    "#decompose\n",
    "result_decomp = seasonal_decompose(etot_data)\n",
    "result_decomp.plot()"
   ]
  },
  {
   "cell_type": "code",
   "execution_count": 46,
   "id": "6bc9f888-67e3-41c6-a4b8-5be77da842ce",
   "metadata": {},
   "outputs": [
    {
     "name": "stdout",
     "output_type": "stream",
     "text": [
      "Test Statistic: -7.302503819290496\n",
      "P-Value: 1.327300919561392e-10\n"
     ]
    }
   ],
   "source": [
    "#AD fuller test for stationarity\n",
    "result_adf = adfuller(etot_data['ETOT'])\n",
    "\n",
    "test_statistic= result_adf[0]\n",
    "p_val = result_adf[1]\n",
    "print(f'Test Statistic: {test_statistic}')\n",
    "print(f'P-Value: {p_val}')"
   ]
  },
  {
   "cell_type": "markdown",
   "id": "c8d4c828-c9eb-4611-9454-6a319c8b0115",
   "metadata": {},
   "source": [
    "Results from ADF test with a low p-value less than 0.05  gives evidence to reject the null hypothesis that unit root is present in timeseries. Data is stationary. ARMA will be used as differencing does not need to be done. "
   ]
  },
  {
   "cell_type": "markdown",
   "id": "3b9c2d93-7e12-4c81-8b99-4c0c34edf152",
   "metadata": {},
   "source": [
    "### Autocorrelation\n",
    "**ACF and PACF**\n",
    "Use ACF and PACF to analyze autocorrelation. Look for positive or negative  autocorrelation. "
   ]
  },
  {
   "cell_type": "code",
   "execution_count": 51,
   "id": "d590ca9c-caa5-448e-907d-a72e8b8d65d4",
   "metadata": {},
   "outputs": [
    {
     "data": {
      "image/png": "[encoded data removed]",
      "text/plain": [
       "<Figure size 640x480 with 1 Axes>"
      ]
     },
     "metadata": {},
     "output_type": "display_data"
    }
   ],
   "source": [
    "plot_acf(etot_data)\n",
    "plt.show()"
   ]
  },
  {
   "cell_type": "code",
   "execution_count": 52,
   "id": "8e6bc9c9-e9a5-4e55-943e-f4bb4c43675c",
   "metadata": {},
   "outputs": [
    {
     "data": {
      "image/png": "[encoded data removed]",
      "text/plain": [
       "<Figure size 640x480 with 1 Axes>"
      ]
     },
     "metadata": {},
     "output_type": "display_data"
    }
   ],
   "source": [
    "plot_pacf(etot_data)\n",
    "plt.show()"
   ]
  },
  {
   "cell_type": "markdown",
   "id": "2220bdad-0a3d-4a34-b9d6-4af74e2231ab",
   "metadata": {},
   "source": [
    "The ACF plot shows a spike around 2 then consistently decays as the lag increses. This could signify a significant autocorrelation at lag. Also possible seasonality or periodicity. The PACF has a drop almost to zero after lag 1 indicating that once the correlation at lag 1 is considered there is not much direct correlation for higher lags. There is a spike at lag 3 in the PACF plot suggesting a correlation with lag 3 lags back. All auto correlations are positive and no strong negative auto correlations observed. The ARMA model will be used as differencing is not needed as series appears to be stationary. "
   ]
  },
  {
   "cell_type": "markdown",
   "id": "ca868a28-20a8-4ed5-91ab-189c7c1f9d08",
   "metadata": {},
   "source": [
    "## ARMA Model \n",
    "The ARMA model will be the first model used, the orders(p,q) will be adjusted based on residual error. Initial values will be specified based on observations from ACF and PACF.\n",
    "\n",
    "ARMA model: \n",
    "- order: 2\n"
   ]
  },
  {
   "cell_type": "markdown",
   "id": "e67c6269-8066-4b0c-887a-c0ae3e3b14b8",
   "metadata": {},
   "source": [
    "## SARIMA MODEL "
   ]
  },
  {
   "cell_type": "code",
   "execution_count": null,
   "id": "f326fb7a-958b-4456-bfef-af765da607a5",
   "metadata": {},
   "outputs": [],
   "source": []
  }
 ],
 "metadata": {
  "kernelspec": {
   "display_name": "capstone_wavepower",
   "language": "python",
   "name": "capstone_wavepower"
  },
  "language_info": {
   "codemirror_mode": {
    "name": "ipython",
    "version": 3
   },
   "file_extension": ".py",
   "mimetype": "text/x-python",
   "name": "python",
   "nbconvert_exporter": "python",
   "pygments_lexer": "ipython3",
   "version": "3.8.18"
  }
 },
 "nbformat": 4,
 "nbformat_minor": 5
}
